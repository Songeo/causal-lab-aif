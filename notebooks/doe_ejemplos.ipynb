{
 "cells": [
  {
   "cell_type": "markdown",
   "id": "91e67403-e451-4686-b7ef-d04aadaa39d2",
   "metadata": {},
   "source": [
    "# Experimentos y Diseño de Experimentos\n",
    "\n",
    "@Laboratorio de Causalidad\n",
    "\n",
    "2024-09-26"
   ]
  },
  {
   "cell_type": "markdown",
   "id": "c4620c76-ec03-4279-8547-d3fe1d8e6f2c",
   "metadata": {},
   "source": [
    "## Librerías y funciones"
   ]
  },
  {
   "cell_type": "code",
   "execution_count": null,
   "id": "e6cb826a-dc89-4c99-9887-61c0fb3aea95",
   "metadata": {},
   "outputs": [],
   "source": [
    "import pandas as pd\n",
    "import numpy as np\n",
    "\n",
    "import statsmodels.api as sm\n",
    "from statsmodels.formula.api import ols\n",
    "from scipy import stats\n",
    "from statsmodels.stats.power import FTestAnovaPower\n",
    "\n",
    "import matplotlib.pyplot as plt\n",
    "import seaborn as sns"
   ]
  },
  {
   "cell_type": "code",
   "execution_count": null,
   "id": "1308ecef-2475-4d78-be9b-af766e884fdf",
   "metadata": {},
   "outputs": [],
   "source": [
    "def eval_pvalue(obs_p_value, limite = 0.05):\n",
    "    # Conclusión sobre el efecto de la dosis\n",
    "    if obs_p_value < limite:\n",
    "        print(f\"\\nConclusión: Existe una diferencia significativa en la reducción del tamaño del tumor segun el factor. (p-valor = {p_value:.4f}).\")\n",
    "    else:\n",
    "        print(\"\\nConclusión: No existe una diferencia significativa en la reducción del tamaño del tumor.\")"
   ]
  },
  {
   "cell_type": "code",
   "execution_count": null,
   "id": "8187fab1-98a5-4c69-9edd-74afc8f39637",
   "metadata": {},
   "outputs": [],
   "source": [
    "def fit_plots(df):\n",
    "    # Crear figura con subplots 2x2\n",
    "    fig, axs = plt.subplots(2, 2, figsize=(10, 8))\n",
    "    \n",
    "    # Gráfico Q-Q para verificar la normalidad de los residuos\n",
    "    sm.qqplot(df['residuales'], line ='45', fit=True, ax=axs[0, 0])\n",
    "    axs[0, 0].set_title(\"Gráfico Q-Q de los Residuos\")\n",
    "    axs[0, 0].set_ylabel('Cuantiles Muestrales')\n",
    "    axs[0, 0].set_xlabel('Cuantiles Teóricos')\n",
    "    \n",
    "    # Gráfico de residuos vs. valores predichos para verificar homocedasticidad\n",
    "    sns.scatterplot(x='prediccion', y='residuales', data=df, ax=axs[0, 1])\n",
    "    axs[0, 1].axhline(0, color='blue', linestyle='--')\n",
    "    axs[0, 1].set_title(\"Residuos vs. Valores Predichos\")\n",
    "    axs[0, 1].set_xlabel('Valores Predichos')\n",
    "    axs[0, 1].set_ylabel('Residuos')\n",
    "    \n",
    "    # Gráfico de residuos vs. nivel de dosis para verificar independencia\n",
    "    sns.stripplot(x='Dosis', y='residuales', data=df, jitter=True, ax=axs[1, 0])\n",
    "    axs[1, 0].axhline(0, color='blue', linestyle='--')\n",
    "    axs[1, 0].set_title(\"Residuos vs. Nivel de Dosis\")\n",
    "    axs[1, 0].set_xlabel('Nivel de Dosis')\n",
    "    axs[1, 0].set_ylabel('Residuos')\n",
    "    \n",
    "    # Gráfico de valores observados vs. predicciones del modelo\n",
    "    sns.scatterplot(x='prediccion', y='Reducción', data=df, ax=axs[1, 1])\n",
    "    axs[1, 1].plot([df['prediccion'].min(), df['prediccion'].max()], \n",
    "                   [df['prediccion'].min(), df['prediccion'].max()], \n",
    "                   color='red', linestyle='--')\n",
    "    axs[1, 1].set_title(\"Valores Observados vs. Valores Predichos\")\n",
    "    axs[1, 1].set_xlabel('Valores Predichos')\n",
    "    axs[1, 1].set_ylabel('Valores Observados')\n",
    "    \n",
    "    # Ajustar el diseño de los subplots\n",
    "    plt.tight_layout()\n",
    "    plt.show()\n",
    "    "
   ]
  },
  {
   "cell_type": "code",
   "execution_count": null,
   "id": "834b0a7b-70d2-402b-b79c-7bfbf60ae1d0",
   "metadata": {},
   "outputs": [],
   "source": []
  },
  {
   "cell_type": "markdown",
   "id": "53ebd0a7-6d61-4f6a-a478-66516c27c5a0",
   "metadata": {},
   "source": [
    "## Diseño Aleatorizado"
   ]
  },
  {
   "cell_type": "code",
   "execution_count": null,
   "id": "9e050914-518d-4a24-9e13-508693a79df5",
   "metadata": {},
   "outputs": [],
   "source": [
    "# Simulación de datos para el experimento aleatorizado\n",
    "np.random.seed(42)\n",
    "\n",
    "# Definimos los niveles del factor\n",
    "doses = ['Bajo', 'Alto']\n",
    "replicas = 3  # Número de pacientes (réplicas) por nivel de dosis"
   ]
  },
  {
   "cell_type": "markdown",
   "id": "41549e04-f3fe-4fff-9174-7179052e5fe8",
   "metadata": {},
   "source": [
    "#### Data"
   ]
  },
  {
   "cell_type": "code",
   "execution_count": null,
   "id": "83c0b95e-3648-4f9f-b3e2-672d13f2261e",
   "metadata": {},
   "outputs": [],
   "source": [
    "# Generando datos simulados de reducción de tumores en porcentaje\n",
    "data = {\n",
    "    'Dosis': np.repeat(doses, replicas),\n",
    "    'Reducción': np.concatenate([\n",
    "        np.random.normal(20, 10, replicas),  # Dosis baja\n",
    "        np.random.normal(40, 10, replicas)   # Dosis alta\n",
    "    ])\n",
    "}\n",
    "\n",
    "# Creación del DataFrame\n",
    "df = pd.DataFrame(data)"
   ]
  },
  {
   "cell_type": "code",
   "execution_count": null,
   "id": "7077a816-16db-4a28-a951-ab3c68fd7fd4",
   "metadata": {},
   "outputs": [],
   "source": [
    "# Visualización de los datos\n",
    "plt.figure(figsize=(8, 6))\n",
    "sns.boxplot(x='Dosis', y='Reducción', data=df)\n",
    "plt.title('Reducción del tamaño del tumor por nivel de dosis')\n",
    "plt.xlabel('Nivel de Dosis')\n",
    "plt.ylabel('Reducción del Tumor (%)')\n",
    "plt.show()"
   ]
  },
  {
   "cell_type": "markdown",
   "id": "53177a99-72d3-4e7e-8aa8-a554ae45e298",
   "metadata": {},
   "source": [
    "#### Potencia"
   ]
  },
  {
   "cell_type": "code",
   "execution_count": null,
   "id": "65208053-fabf-4f45-9e06-585e5217cccb",
   "metadata": {},
   "outputs": [],
   "source": [
    "# Definir los parámetros del experimento\n",
    "effect_size = 0.8  # Tamaño del efecto, puedes ajustarlo según el escenario (típicamente 0.2, 0.5, 0.8 para pequeño, medio, grande)\n",
    "alpha = 0.05  # Nivel de significancia\n",
    "groups = len(doses)  # Número de grupos (Dosis alta y baja)\n",
    "\n",
    "# Crear un objeto FTestAnovaPower\n",
    "anova_power = FTestAnovaPower()"
   ]
  },
  {
   "cell_type": "code",
   "execution_count": null,
   "id": "ddb899bb-9d32-4cf2-996f-b95b1fd792a2",
   "metadata": {},
   "outputs": [],
   "source": [
    "# Calcular la potencia\n",
    "nobs = df.shape[0]  # Número total de observaciones\n",
    "power = anova_power.solve_power(effect_size=effect_size, nobs=nobs, alpha=alpha, k_groups=groups)\n",
    "print(f\"Potencia del experimento de un factor (Nivel de Dosis) con {nobs}: {power:.4f}\")"
   ]
  },
  {
   "cell_type": "code",
   "execution_count": null,
   "id": "463c5e48-0e3e-4b43-b728-f42323bd3af5",
   "metadata": {},
   "outputs": [],
   "source": [
    "# Definir los parámetros\n",
    "power = 0.8  # Potencia deseada (80%)\n",
    "\n",
    "# Calcular el tamaño de muestra necesario\n",
    "sample_size = anova_power.solve_power(effect_size=effect_size, alpha=alpha, power=power, k_groups=groups)\n",
    "print(f\"Tamaño de muestra necesario para un diseño de un factor: {int(np.ceil(sample_size))} observaciones\")"
   ]
  },
  {
   "cell_type": "code",
   "execution_count": null,
   "id": "9a5ff3a0-1b37-4612-9562-22e7912e40d8",
   "metadata": {},
   "outputs": [],
   "source": []
  },
  {
   "cell_type": "markdown",
   "id": "92c34dbd-6aee-46fd-812e-fb58f770e06d",
   "metadata": {},
   "source": [
    "#### Modelo"
   ]
  },
  {
   "cell_type": "code",
   "execution_count": null,
   "id": "db66eb54-c954-4ac1-b938-ec3c6c341671",
   "metadata": {},
   "outputs": [],
   "source": [
    "# ANOVA de un factor para nivel de dosis\n",
    "model = ols('Reducción ~ C(Dosis)', data=df).fit()\n",
    "anova_table = sm.stats.anova_lm(model, typ=2)\n",
    "anova_table"
   ]
  },
  {
   "cell_type": "code",
   "execution_count": null,
   "id": "5c749c42-2e20-4a28-a53c-67bd4bd80329",
   "metadata": {},
   "outputs": [],
   "source": [
    "p_value = anova_table['PR(>F)'][0]\n",
    "eval_pvalue(p_value)"
   ]
  },
  {
   "cell_type": "code",
   "execution_count": null,
   "id": "4e1cac35-30db-4592-a962-e1e52e6258ce",
   "metadata": {},
   "outputs": [],
   "source": []
  },
  {
   "cell_type": "markdown",
   "id": "5341a7e2-e874-4563-928c-062246dc0187",
   "metadata": {},
   "source": [
    "#### Ajuste"
   ]
  },
  {
   "cell_type": "code",
   "execution_count": null,
   "id": "925faebe-1936-40a2-bea1-cf177f34189e",
   "metadata": {},
   "outputs": [],
   "source": [
    "# Añadir residuos y predicciones al DataFrame\n",
    "df['residuales'] = model.resid\n",
    "df['prediccion'] = model.fittedvalues"
   ]
  },
  {
   "cell_type": "code",
   "execution_count": null,
   "id": "ba947532-340b-489d-9a97-5a544f3cce62",
   "metadata": {},
   "outputs": [],
   "source": [
    "fit_plots(df)"
   ]
  },
  {
   "cell_type": "code",
   "execution_count": null,
   "id": "e601ac84-d451-4526-be95-4ce5a1b04fa9",
   "metadata": {},
   "outputs": [],
   "source": []
  },
  {
   "cell_type": "markdown",
   "id": "01f2d82e-50f8-499e-8f26-f9fc2bee48e6",
   "metadata": {},
   "source": [
    "## Diseño en Bloques Completos"
   ]
  },
  {
   "cell_type": "code",
   "execution_count": null,
   "id": "933fdbef-b4e1-4ccc-bd15-e5e2bb957a8e",
   "metadata": {},
   "outputs": [],
   "source": [
    "# Simulación de datos para el experimento con bloques completos aleatorizados\n",
    "np.random.seed(42)\n",
    "\n",
    "# Definimos los factores y bloques\n",
    "doses = ['Bajo', 'Alto']\n",
    "cancer_phases = ['Fase T', 'Fase N', 'Fase M2']\n",
    "replicas = 5  # Número de pacientes (réplicas) por combinación de fase y dosis"
   ]
  },
  {
   "cell_type": "markdown",
   "id": "f1e56baf-88bb-46b7-b38e-bbfc04f401d2",
   "metadata": {},
   "source": [
    "#### Data"
   ]
  },
  {
   "cell_type": "code",
   "execution_count": null,
   "id": "947dfc7c-f56f-4b1a-82bf-5a93ae2a8d70",
   "metadata": {},
   "outputs": [],
   "source": [
    "# Generando datos simulados de reducción de tumores en porcentaje\n",
    "data = {\n",
    "    'Dosis': np.tile(doses, len(cancer_phases) * replicas),\n",
    "    'Fase': np.repeat(cancer_phases, len(doses) * replicas),\n",
    "    'Reducción': np.concatenate([\n",
    "        np.random.normal(25, 5, replicas),  # Fase T con Dosis baja\n",
    "        np.random.normal(35, 5, replicas),  # Fase T con Dosis alta\n",
    "        np.random.normal(20, 5, replicas),  # Fase N con Dosis baja\n",
    "        np.random.normal(30, 5, replicas),  # Fase N con Dosis alta\n",
    "        np.random.normal(15, 5, replicas),  # Fase M2 con Dosis baja\n",
    "        np.random.normal(25, 5, replicas)   # Fase M2 con Dosis alta\n",
    "    ])\n",
    "}\n",
    "\n",
    "# Creación del DataFrame\n",
    "df = pd.DataFrame(data)"
   ]
  },
  {
   "cell_type": "code",
   "execution_count": null,
   "id": "1eb84ebc-465d-494f-99eb-94c1c1446767",
   "metadata": {
    "scrolled": true
   },
   "outputs": [],
   "source": [
    "# Visualización de los datos\n",
    "plt.figure(figsize=(10, 6))\n",
    "sns.boxplot(x='Dosis', y='Reducción', hue='Fase', data=df)\n",
    "plt.title('Reducción del tamaño del tumor por nivel de dosis y fase del cáncer')\n",
    "plt.xlabel('Nivel de Dosis')\n",
    "plt.ylabel('Reducción del Tumor (%)')\n",
    "plt.show()"
   ]
  },
  {
   "cell_type": "code",
   "execution_count": null,
   "id": "160c3ddd-7a39-4b0a-b01d-2dc452f16a33",
   "metadata": {},
   "outputs": [],
   "source": []
  },
  {
   "cell_type": "markdown",
   "id": "26598ff8-17ac-47bc-bbf3-1bbcfb5b9b51",
   "metadata": {},
   "source": [
    "#### Potencia"
   ]
  },
  {
   "cell_type": "code",
   "execution_count": null,
   "id": "2256cc23-6402-4a69-9132-ac5e97d2638e",
   "metadata": {},
   "outputs": [],
   "source": [
    "# Definir los parámetros del experimento\n",
    "effect_size = 0.8  # Tamaño del efecto, puedes ajustarlo según el escenario (típicamente 0.2, 0.5, 0.8 para pequeño, medio, grande)\n",
    "alpha = 0.05  # Nivel de significancia\n",
    "groups = len(doses) * len(cancer_phases)  # Número de grupos (2 niveles de dosis x 3 bloques)\n",
    "\n",
    "# Crear un objeto FTestAnovaPower\n",
    "anova_power = FTestAnovaPower()"
   ]
  },
  {
   "cell_type": "code",
   "execution_count": null,
   "id": "be6a4c5f-2ea0-4317-b706-a5f0ec98e830",
   "metadata": {},
   "outputs": [],
   "source": [
    "# Calcular la potencia\n",
    "nobs = df.shape[0]  # Número total de observaciones\n",
    "power = anova_power.solve_power(effect_size=effect_size, nobs=nobs, alpha=alpha, k_groups=groups)\n",
    "print(f\"Potencia del experimento de un factor (Nivel de Dosis) con {nobs}: {power:.4f}\")"
   ]
  },
  {
   "cell_type": "code",
   "execution_count": null,
   "id": "3b51d660-90a4-41e2-b85a-95c45cada0f4",
   "metadata": {},
   "outputs": [],
   "source": [
    "# Definir los parámetros\n",
    "power = 0.8  # Potencia deseada (80%)\n",
    "\n",
    "# Calcular el tamaño de muestra necesario\n",
    "sample_size = anova_power.solve_power(effect_size=effect_size, alpha=alpha, power=power, k_groups=groups)\n",
    "print(f\"Tamaño de muestra necesario para un diseño de bloques: {int(np.ceil(sample_size))} observaciones\")"
   ]
  },
  {
   "cell_type": "code",
   "execution_count": null,
   "id": "465b9980-92fb-4f5f-92bd-a389ac6ce838",
   "metadata": {},
   "outputs": [],
   "source": []
  },
  {
   "cell_type": "markdown",
   "id": "f7ec8aaf-30fb-447a-a28c-7ed021e1a426",
   "metadata": {},
   "source": [
    "#### Modelo"
   ]
  },
  {
   "cell_type": "code",
   "execution_count": null,
   "id": "8d77238c-08d6-413f-b917-90857c496f61",
   "metadata": {},
   "outputs": [],
   "source": [
    "# ANOVA con diseño de bloques completos aleatorizados\n",
    "model = ols('Reducción ~ C(Dosis) + C(Fase)', data=df).fit()\n",
    "anova_table = sm.stats.anova_lm(model, typ=2)\n",
    "anova_table"
   ]
  },
  {
   "cell_type": "code",
   "execution_count": null,
   "id": "3417ffcb-8117-4016-9522-57f8e8f4b66f",
   "metadata": {},
   "outputs": [],
   "source": [
    "# Análisis de resultados\n",
    "dosis_p_value = anova_table['PR(>F)']['C(Dosis)']\n",
    "fase_p_value = anova_table['PR(>F)']['C(Fase)']\n",
    "eval_pvalue(dosis_p_value)"
   ]
  },
  {
   "cell_type": "markdown",
   "id": "181109c2-82e5-46c3-a775-8579953e7cf7",
   "metadata": {},
   "source": [
    "#### Ajuste"
   ]
  },
  {
   "cell_type": "code",
   "execution_count": null,
   "id": "ce9ec2b8-65c0-46af-9313-822fd39c16dd",
   "metadata": {},
   "outputs": [],
   "source": [
    "# Añadir residuos y predicciones al DataFrame\n",
    "df['residuales'] = model.resid\n",
    "df['prediccion'] = model.fittedvalues"
   ]
  },
  {
   "cell_type": "code",
   "execution_count": null,
   "id": "accf1374-fa2a-4c5d-a30c-3e7fe8e5c140",
   "metadata": {},
   "outputs": [],
   "source": [
    "fit_plots(df)"
   ]
  },
  {
   "cell_type": "code",
   "execution_count": null,
   "id": "1c4ce441-fb95-4f44-b6cb-a2bf7e6bac3a",
   "metadata": {},
   "outputs": [],
   "source": []
  },
  {
   "cell_type": "markdown",
   "id": "ef6e33a5-ea6a-4b19-a299-4d621ef39c33",
   "metadata": {},
   "source": [
    "\n",
    "## Diseño 2 Factores"
   ]
  },
  {
   "cell_type": "code",
   "execution_count": null,
   "id": "071e3a24-8565-4194-9bd2-6055311e3ecd",
   "metadata": {},
   "outputs": [],
   "source": [
    "# Simulación de datos para el experimento\n",
    "np.random.seed(42)\n",
    "\n",
    "# Factores\n",
    "doses = ['Bajo', 'Alto']\n",
    "ages = ['Niñez', 'Adultez']\n",
    "replicas = 10  # Número de réplicas por cada combinación de dosis y edad"
   ]
  },
  {
   "cell_type": "markdown",
   "id": "1482356a-d854-4a66-aad2-3ba5d42185d2",
   "metadata": {},
   "source": [
    "#### Data"
   ]
  },
  {
   "cell_type": "code",
   "execution_count": null,
   "id": "a2128459-f841-46eb-8d04-43550294ed2f",
   "metadata": {},
   "outputs": [],
   "source": [
    "# Generando datos simulados de reducción de tumores en porcentaje\n",
    "data = {\n",
    "    'Dosis': np.repeat(doses, len(ages) * replicas),\n",
    "    'Edad': np.tile(np.repeat(ages, replicas), len(doses)),\n",
    "    'Reducción': np.concatenate([\n",
    "        np.random.normal(20, 5, replicas),  # Dosis baja, Niñez\n",
    "        np.random.normal(30, 5, replicas),  # Dosis baja, Adultez\n",
    "        np.random.normal(50, 5, replicas),  # Dosis alta, Niñez\n",
    "        np.random.normal(40, 5, replicas)   # Dosis alta, Adultez\n",
    "    ])\n",
    "}\n",
    "\n",
    "# Creación del DataFrame\n",
    "df = pd.DataFrame(data)"
   ]
  },
  {
   "cell_type": "code",
   "execution_count": null,
   "id": "49e73780-b4d8-4dea-843b-48cb92d7dc49",
   "metadata": {},
   "outputs": [],
   "source": [
    "# Visualización de los datos\n",
    "plt.figure(figsize=(10, 6))\n",
    "sns.boxplot(x='Dosis', y='Reducción', hue='Edad', data=df)\n",
    "plt.title('Reducción del tamaño del tumor por nivel de dosis y edad del paciente')\n",
    "plt.xlabel('Nivel de Dosis')\n",
    "plt.ylabel('Reducción del Tumor (%)')\n",
    "plt.show()"
   ]
  },
  {
   "cell_type": "markdown",
   "id": "ab66d855-9acb-47e9-ad37-1d0ee7d94321",
   "metadata": {},
   "source": [
    "#### Potencia"
   ]
  },
  {
   "cell_type": "code",
   "execution_count": null,
   "id": "6c0f9175-234b-4052-bf31-6f130569d14e",
   "metadata": {},
   "outputs": [],
   "source": [
    "# Definir los parámetros del experimento\n",
    "effect_size = 0.8  # Tamaño del efecto, puedes ajustarlo según el escenario (típicamente 0.2, 0.5, 0.8 para pequeño, medio, grande)\n",
    "alpha = 0.05  # Nivel de significancia\n",
    "groups = len(doses) * len(ages)  # Número de grupos (2 niveles de dosis x 2 edades)\n",
    "\n",
    "# Crear un objeto FTestAnovaPower\n",
    "anova_power = FTestAnovaPower()"
   ]
  },
  {
   "cell_type": "code",
   "execution_count": null,
   "id": "bd604e29-d75e-4708-8994-11b7975f4d9c",
   "metadata": {},
   "outputs": [],
   "source": [
    "# Calcular la potencia\n",
    "nobs = df.shape[0]  # Número total de observaciones\n",
    "power = anova_power.solve_power(effect_size=effect_size, nobs=nobs, alpha=alpha, k_groups=groups)\n",
    "print(f\"Potencia del experimento de un factor (Nivel de Dosis) con {nobs}: {power:.4f}\")"
   ]
  },
  {
   "cell_type": "code",
   "execution_count": null,
   "id": "af0222dc-cc2b-429a-91bb-075f14b4b60b",
   "metadata": {},
   "outputs": [],
   "source": [
    "# Definir los parámetros\n",
    "power = 0.8  # Potencia deseada (80%)\n",
    "\n",
    "# Calcular el tamaño de muestra necesario\n",
    "sample_size = anova_power.solve_power(effect_size=effect_size, alpha=alpha, power=power, k_groups=groups)\n",
    "print(f\"Tamaño de muestra necesario para un diseño de 2 factores: {int(np.ceil(sample_size))} observaciones\")"
   ]
  },
  {
   "cell_type": "code",
   "execution_count": null,
   "id": "9ce8b9c6-844e-41f8-9c1c-b232502d702b",
   "metadata": {},
   "outputs": [],
   "source": []
  },
  {
   "cell_type": "markdown",
   "id": "28b60be6-bb07-4f16-bcf0-f701c39d11d1",
   "metadata": {},
   "source": [
    "#### Análisis"
   ]
  },
  {
   "cell_type": "code",
   "execution_count": null,
   "id": "732069f7-3c7e-4a50-bd1b-9d2ff0c72349",
   "metadata": {},
   "outputs": [],
   "source": [
    "# ANOVA de dos factores con interacción\n",
    "model = ols('Reducción ~ C(Dosis) * C(Edad)', data=df).fit()\n",
    "anova_table = sm.stats.anova_lm(model, typ=2)\n",
    "anova_table"
   ]
  },
  {
   "cell_type": "code",
   "execution_count": null,
   "id": "1f603011-c5d7-46ab-85ac-d4998266b139",
   "metadata": {},
   "outputs": [],
   "source": [
    "# Análisis de resultados\n",
    "dosis_p_value = anova_table['PR(>F)']['C(Dosis)']\n",
    "edad_p_value = anova_table['PR(>F)']['C(Edad)']\n",
    "interaccion_p_value = anova_table['PR(>F)']['C(Dosis):C(Edad)']\n",
    "\n",
    "eval_pvalue(dosis_p_value)\n",
    "eval_pvalue(edad_p_value)\n",
    "eval_pvalue(interaccion_p_value)"
   ]
  },
  {
   "cell_type": "markdown",
   "id": "921d8329-f6f1-4492-972b-cd0143f6c001",
   "metadata": {},
   "source": [
    "#### Ajuste"
   ]
  },
  {
   "cell_type": "code",
   "execution_count": null,
   "id": "45c422e4-5712-436c-8873-44b53ff9e3eb",
   "metadata": {},
   "outputs": [],
   "source": [
    "# Añadir residuos y predicciones al DataFrame\n",
    "df['residuales'] = model.resid\n",
    "df['prediccion'] = model.fittedvalues"
   ]
  },
  {
   "cell_type": "code",
   "execution_count": null,
   "id": "b00a79a3-6d13-4184-a2df-df4886d5ed99",
   "metadata": {},
   "outputs": [],
   "source": [
    "fit_plots(df)"
   ]
  },
  {
   "cell_type": "code",
   "execution_count": null,
   "id": "264632e8-bacb-4de1-a71f-38e0a8cd7db5",
   "metadata": {},
   "outputs": [],
   "source": []
  }
 ],
 "metadata": {
  "kernelspec": {
   "display_name": "doelab",
   "language": "python",
   "name": "doelab"
  },
  "language_info": {
   "codemirror_mode": {
    "name": "ipython",
    "version": 3
   },
   "file_extension": ".py",
   "mimetype": "text/x-python",
   "name": "python",
   "nbconvert_exporter": "python",
   "pygments_lexer": "ipython3",
   "version": "3.10.13"
  }
 },
 "nbformat": 4,
 "nbformat_minor": 5
}
