{
 "cells": [
  {
   "cell_type": "markdown",
   "metadata": {},
   "source": [
    "### Imports and setup"
   ]
  },
  {
   "cell_type": "code",
   "execution_count": null,
   "metadata": {
    "tags": []
   },
   "outputs": [],
   "source": [
    "import matplotlib.pyplot as plt\n",
    "import pandas as pd\n",
    "import pyreadr\n",
    "import seaborn as sns\n",
    "import statsmodels.formula.api as smf\n",
    "from psmpy import PsmPy\n",
    "\n",
    "pd.set_option(\"display.max_columns\", None)"
   ]
  },
  {
   "cell_type": "code",
   "execution_count": 2,
   "metadata": {},
   "outputs": [],
   "source": [
    "PATH = \"lalonde.RData\"\n",
    "seed = 1234\n",
    "num_trees = None\n",
    "\n",
    "Y = \"re78\"\n",
    "treat = \"treat\"\n",
    "covar = [\n",
    "    \"age\",\n",
    "    \"education\",\n",
    "    \"black\",\n",
    "    \"hispanic\",\n",
    "    \"married\",\n",
    "    \"nodegree\",\n",
    "    \"re74\",\n",
    "    \"re75\",\n",
    "    \"u74\",\n",
    "    \"u75\",\n",
    "]\n",
    "\n",
    "raw = pyreadr.read_r(PATH)"
   ]
  },
  {
   "cell_type": "markdown",
   "metadata": {},
   "source": [
    "___\n",
    "## LDW-Experimental\n",
    "\n",
    "Dehejia and Wahba argue the refined dataset, LaLonde-Dehejia-Wahba (LDW) data, is a valid experimental sample."
   ]
  },
  {
   "cell_type": "code",
   "execution_count": 3,
   "metadata": {},
   "outputs": [],
   "source": [
    "data = raw[\"ldw\"].copy().reset_index(drop=True)\n",
    "data.reset_index(inplace=True, names=\"row_idx\")"
   ]
  },
  {
   "cell_type": "code",
   "execution_count": 4,
   "metadata": {},
   "outputs": [
    {
     "data": {
      "text/plain": [
       "treat\n",
       "0.0    260\n",
       "1.0    185\n",
       "Name: sample, dtype: int64"
      ]
     },
     "execution_count": 4,
     "metadata": {},
     "output_type": "execute_result"
    }
   ],
   "source": [
    "data.groupby(treat)[\"sample\"].count()"
   ]
  },
  {
   "cell_type": "markdown",
   "metadata": {},
   "source": [
    "### Covariate balance"
   ]
  },
  {
   "cell_type": "code",
   "execution_count": 5,
   "metadata": {},
   "outputs": [
    {
     "data": {
      "text/html": [
       "<div>\n",
       "<style scoped>\n",
       "    .dataframe tbody tr th:only-of-type {\n",
       "        vertical-align: middle;\n",
       "    }\n",
       "\n",
       "    .dataframe tbody tr th {\n",
       "        vertical-align: top;\n",
       "    }\n",
       "\n",
       "    .dataframe thead th {\n",
       "        text-align: right;\n",
       "    }\n",
       "</style>\n",
       "<table border=\"1\" class=\"dataframe\">\n",
       "  <thead>\n",
       "    <tr style=\"text-align: right;\">\n",
       "      <th></th>\n",
       "      <th>mean</th>\n",
       "      <th>std</th>\n",
       "      <th>min</th>\n",
       "      <th>25%</th>\n",
       "      <th>50%</th>\n",
       "      <th>75%</th>\n",
       "      <th>max</th>\n",
       "    </tr>\n",
       "  </thead>\n",
       "  <tbody>\n",
       "    <tr>\n",
       "      <th>age</th>\n",
       "      <td>25.053846</td>\n",
       "      <td>7.057745</td>\n",
       "      <td>17.0</td>\n",
       "      <td>19.00</td>\n",
       "      <td>24.0</td>\n",
       "      <td>28.000000</td>\n",
       "      <td>55.000000</td>\n",
       "    </tr>\n",
       "    <tr>\n",
       "      <th>education</th>\n",
       "      <td>10.088462</td>\n",
       "      <td>1.614325</td>\n",
       "      <td>3.0</td>\n",
       "      <td>9.00</td>\n",
       "      <td>10.0</td>\n",
       "      <td>11.000000</td>\n",
       "      <td>14.000000</td>\n",
       "    </tr>\n",
       "    <tr>\n",
       "      <th>black</th>\n",
       "      <td>0.826923</td>\n",
       "      <td>0.379043</td>\n",
       "      <td>0.0</td>\n",
       "      <td>1.00</td>\n",
       "      <td>1.0</td>\n",
       "      <td>1.000000</td>\n",
       "      <td>1.000000</td>\n",
       "    </tr>\n",
       "    <tr>\n",
       "      <th>hispanic</th>\n",
       "      <td>0.107692</td>\n",
       "      <td>0.310589</td>\n",
       "      <td>0.0</td>\n",
       "      <td>0.00</td>\n",
       "      <td>0.0</td>\n",
       "      <td>0.000000</td>\n",
       "      <td>1.000000</td>\n",
       "    </tr>\n",
       "    <tr>\n",
       "      <th>married</th>\n",
       "      <td>0.153846</td>\n",
       "      <td>0.361497</td>\n",
       "      <td>0.0</td>\n",
       "      <td>0.00</td>\n",
       "      <td>0.0</td>\n",
       "      <td>0.000000</td>\n",
       "      <td>1.000000</td>\n",
       "    </tr>\n",
       "    <tr>\n",
       "      <th>nodegree</th>\n",
       "      <td>0.834615</td>\n",
       "      <td>0.372244</td>\n",
       "      <td>0.0</td>\n",
       "      <td>1.00</td>\n",
       "      <td>1.0</td>\n",
       "      <td>1.000000</td>\n",
       "      <td>1.000000</td>\n",
       "    </tr>\n",
       "    <tr>\n",
       "      <th>re74</th>\n",
       "      <td>2107.026651</td>\n",
       "      <td>5687.905639</td>\n",
       "      <td>0.0</td>\n",
       "      <td>0.00</td>\n",
       "      <td>0.0</td>\n",
       "      <td>139.424698</td>\n",
       "      <td>39570.679688</td>\n",
       "    </tr>\n",
       "    <tr>\n",
       "      <th>re75</th>\n",
       "      <td>1266.909015</td>\n",
       "      <td>3102.982088</td>\n",
       "      <td>0.0</td>\n",
       "      <td>0.00</td>\n",
       "      <td>0.0</td>\n",
       "      <td>650.096451</td>\n",
       "      <td>23031.980469</td>\n",
       "    </tr>\n",
       "    <tr>\n",
       "      <th>u74</th>\n",
       "      <td>0.750000</td>\n",
       "      <td>0.433848</td>\n",
       "      <td>0.0</td>\n",
       "      <td>0.75</td>\n",
       "      <td>1.0</td>\n",
       "      <td>1.000000</td>\n",
       "      <td>1.000000</td>\n",
       "    </tr>\n",
       "    <tr>\n",
       "      <th>u75</th>\n",
       "      <td>0.684615</td>\n",
       "      <td>0.465565</td>\n",
       "      <td>0.0</td>\n",
       "      <td>0.00</td>\n",
       "      <td>1.0</td>\n",
       "      <td>1.000000</td>\n",
       "      <td>1.000000</td>\n",
       "    </tr>\n",
       "  </tbody>\n",
       "</table>\n",
       "</div>"
      ],
      "text/plain": [
       "                  mean          std   min    25%   50%         75%  \\\n",
       "age          25.053846     7.057745  17.0  19.00  24.0   28.000000   \n",
       "education    10.088462     1.614325   3.0   9.00  10.0   11.000000   \n",
       "black         0.826923     0.379043   0.0   1.00   1.0    1.000000   \n",
       "hispanic      0.107692     0.310589   0.0   0.00   0.0    0.000000   \n",
       "married       0.153846     0.361497   0.0   0.00   0.0    0.000000   \n",
       "nodegree      0.834615     0.372244   0.0   1.00   1.0    1.000000   \n",
       "re74       2107.026651  5687.905639   0.0   0.00   0.0  139.424698   \n",
       "re75       1266.909015  3102.982088   0.0   0.00   0.0  650.096451   \n",
       "u74           0.750000     0.433848   0.0   0.75   1.0    1.000000   \n",
       "u75           0.684615     0.465565   0.0   0.00   1.0    1.000000   \n",
       "\n",
       "                    max  \n",
       "age           55.000000  \n",
       "education     14.000000  \n",
       "black          1.000000  \n",
       "hispanic       1.000000  \n",
       "married        1.000000  \n",
       "nodegree       1.000000  \n",
       "re74       39570.679688  \n",
       "re75       23031.980469  \n",
       "u74            1.000000  \n",
       "u75            1.000000  "
      ]
     },
     "execution_count": 5,
     "metadata": {},
     "output_type": "execute_result"
    }
   ],
   "source": [
    "data[data[treat] == 0][covar].describe().T.drop(columns=[\"count\"])"
   ]
  },
  {
   "cell_type": "code",
   "execution_count": 6,
   "metadata": {},
   "outputs": [
    {
     "data": {
      "text/html": [
       "<div>\n",
       "<style scoped>\n",
       "    .dataframe tbody tr th:only-of-type {\n",
       "        vertical-align: middle;\n",
       "    }\n",
       "\n",
       "    .dataframe tbody tr th {\n",
       "        vertical-align: top;\n",
       "    }\n",
       "\n",
       "    .dataframe thead th {\n",
       "        text-align: right;\n",
       "    }\n",
       "</style>\n",
       "<table border=\"1\" class=\"dataframe\">\n",
       "  <thead>\n",
       "    <tr style=\"text-align: right;\">\n",
       "      <th></th>\n",
       "      <th>mean</th>\n",
       "      <th>std</th>\n",
       "      <th>min</th>\n",
       "      <th>25%</th>\n",
       "      <th>50%</th>\n",
       "      <th>75%</th>\n",
       "      <th>max</th>\n",
       "    </tr>\n",
       "  </thead>\n",
       "  <tbody>\n",
       "    <tr>\n",
       "      <th>age</th>\n",
       "      <td>25.816216</td>\n",
       "      <td>7.155019</td>\n",
       "      <td>17.0</td>\n",
       "      <td>20.0</td>\n",
       "      <td>25.0</td>\n",
       "      <td>29.000000</td>\n",
       "      <td>48.000000</td>\n",
       "    </tr>\n",
       "    <tr>\n",
       "      <th>education</th>\n",
       "      <td>10.345946</td>\n",
       "      <td>2.010650</td>\n",
       "      <td>4.0</td>\n",
       "      <td>9.0</td>\n",
       "      <td>11.0</td>\n",
       "      <td>12.000000</td>\n",
       "      <td>16.000000</td>\n",
       "    </tr>\n",
       "    <tr>\n",
       "      <th>black</th>\n",
       "      <td>0.843243</td>\n",
       "      <td>0.364558</td>\n",
       "      <td>0.0</td>\n",
       "      <td>1.0</td>\n",
       "      <td>1.0</td>\n",
       "      <td>1.000000</td>\n",
       "      <td>1.000000</td>\n",
       "    </tr>\n",
       "    <tr>\n",
       "      <th>hispanic</th>\n",
       "      <td>0.059459</td>\n",
       "      <td>0.237124</td>\n",
       "      <td>0.0</td>\n",
       "      <td>0.0</td>\n",
       "      <td>0.0</td>\n",
       "      <td>0.000000</td>\n",
       "      <td>1.000000</td>\n",
       "    </tr>\n",
       "    <tr>\n",
       "      <th>married</th>\n",
       "      <td>0.189189</td>\n",
       "      <td>0.392722</td>\n",
       "      <td>0.0</td>\n",
       "      <td>0.0</td>\n",
       "      <td>0.0</td>\n",
       "      <td>0.000000</td>\n",
       "      <td>1.000000</td>\n",
       "    </tr>\n",
       "    <tr>\n",
       "      <th>nodegree</th>\n",
       "      <td>0.708108</td>\n",
       "      <td>0.455867</td>\n",
       "      <td>0.0</td>\n",
       "      <td>0.0</td>\n",
       "      <td>1.0</td>\n",
       "      <td>1.000000</td>\n",
       "      <td>1.000000</td>\n",
       "    </tr>\n",
       "    <tr>\n",
       "      <th>re74</th>\n",
       "      <td>2095.573693</td>\n",
       "      <td>4886.620354</td>\n",
       "      <td>0.0</td>\n",
       "      <td>0.0</td>\n",
       "      <td>0.0</td>\n",
       "      <td>1291.468018</td>\n",
       "      <td>35040.070312</td>\n",
       "    </tr>\n",
       "    <tr>\n",
       "      <th>re75</th>\n",
       "      <td>1532.055313</td>\n",
       "      <td>3219.250879</td>\n",
       "      <td>0.0</td>\n",
       "      <td>0.0</td>\n",
       "      <td>0.0</td>\n",
       "      <td>1817.284058</td>\n",
       "      <td>25142.240234</td>\n",
       "    </tr>\n",
       "    <tr>\n",
       "      <th>u74</th>\n",
       "      <td>0.708108</td>\n",
       "      <td>0.455867</td>\n",
       "      <td>0.0</td>\n",
       "      <td>0.0</td>\n",
       "      <td>1.0</td>\n",
       "      <td>1.000000</td>\n",
       "      <td>1.000000</td>\n",
       "    </tr>\n",
       "    <tr>\n",
       "      <th>u75</th>\n",
       "      <td>0.600000</td>\n",
       "      <td>0.491227</td>\n",
       "      <td>0.0</td>\n",
       "      <td>0.0</td>\n",
       "      <td>1.0</td>\n",
       "      <td>1.000000</td>\n",
       "      <td>1.000000</td>\n",
       "    </tr>\n",
       "  </tbody>\n",
       "</table>\n",
       "</div>"
      ],
      "text/plain": [
       "                  mean          std   min   25%   50%          75%  \\\n",
       "age          25.816216     7.155019  17.0  20.0  25.0    29.000000   \n",
       "education    10.345946     2.010650   4.0   9.0  11.0    12.000000   \n",
       "black         0.843243     0.364558   0.0   1.0   1.0     1.000000   \n",
       "hispanic      0.059459     0.237124   0.0   0.0   0.0     0.000000   \n",
       "married       0.189189     0.392722   0.0   0.0   0.0     0.000000   \n",
       "nodegree      0.708108     0.455867   0.0   0.0   1.0     1.000000   \n",
       "re74       2095.573693  4886.620354   0.0   0.0   0.0  1291.468018   \n",
       "re75       1532.055313  3219.250879   0.0   0.0   0.0  1817.284058   \n",
       "u74           0.708108     0.455867   0.0   0.0   1.0     1.000000   \n",
       "u75           0.600000     0.491227   0.0   0.0   1.0     1.000000   \n",
       "\n",
       "                    max  \n",
       "age           48.000000  \n",
       "education     16.000000  \n",
       "black          1.000000  \n",
       "hispanic       1.000000  \n",
       "married        1.000000  \n",
       "nodegree       1.000000  \n",
       "re74       35040.070312  \n",
       "re75       25142.240234  \n",
       "u74            1.000000  \n",
       "u75            1.000000  "
      ]
     },
     "execution_count": 6,
     "metadata": {},
     "output_type": "execute_result"
    }
   ],
   "source": [
    "data[data[treat] == 1][covar].describe().T.drop(columns=[\"count\"])"
   ]
  },
  {
   "cell_type": "markdown",
   "metadata": {},
   "source": [
    "___\n",
    "\n",
    "**Theorem [Rosenbaum-Rubin].** \n",
    "\n",
    "Under the assumptions presented in the theoretical part, the following holds ${Y(0), Y(1)} \\perp D | p(X).$ Here, $p(X) := P(D=1 | X)$ is the\n",
    "so-called propensity score.\n",
    "\n",
    "___"
   ]
  },
  {
   "cell_type": "markdown",
   "metadata": {},
   "source": [
    "### Positivity check"
   ]
  },
  {
   "cell_type": "code",
   "execution_count": 7,
   "metadata": {},
   "outputs": [
    {
     "name": "stderr",
     "output_type": "stream",
     "text": [
      "c:\\Users\\daygo\\anaconda3\\Lib\\site-packages\\seaborn\\_oldcore.py:1119: FutureWarning: use_inf_as_na option is deprecated and will be removed in a future version. Convert inf values to NaN before operating instead.\n",
      "  with pd.option_context('mode.use_inf_as_na', True):\n",
      "c:\\Users\\daygo\\anaconda3\\Lib\\site-packages\\seaborn\\_oldcore.py:1119: FutureWarning: use_inf_as_na option is deprecated and will be removed in a future version. Convert inf values to NaN before operating instead.\n",
      "  with pd.option_context('mode.use_inf_as_na', True):\n"
     ]
    },
    {
     "data": {
      "image/png": "[encoded data removed]",
      "text/plain": [
       "<Figure size 700x500 with 1 Axes>"
      ]
     },
     "metadata": {},
     "output_type": "display_data"
    }
   ],
   "source": [
    "psm = PsmPy(data, treatment=treat, indx=\"row_idx\", exclude=[\"data_id\", Y, \"sample\"])\n",
    "psm.logistic_ps(balance=False)\n",
    "\n",
    "plt.figure(figsize=(7, 5))\n",
    "sns.histplot(\n",
    "    psm.predicted_data.query(\"treat==0\")[\"propensity_logit\"],\n",
    "    kde=False,\n",
    "    label=\"Non Treated\",\n",
    "    bins=50,\n",
    "    stat=\"density\",\n",
    ")\n",
    "sns.histplot(\n",
    "    psm.predicted_data.query(\"treat==1\")[\"propensity_logit\"],\n",
    "    kde=False,\n",
    "    label=\"Treated\",\n",
    "    bins=50,\n",
    "    stat=\"density\",\n",
    ")\n",
    "plt.title(\"Positivity Check\")\n",
    "plt.legend();"
   ]
  },
  {
   "cell_type": "markdown",
   "metadata": {},
   "source": [
    "### ATE"
   ]
  },
  {
   "cell_type": "code",
   "execution_count": 8,
   "metadata": {},
   "outputs": [
    {
     "data": {
      "text/plain": [
       "1794.3423818501024"
      ]
     },
     "execution_count": 8,
     "metadata": {},
     "output_type": "execute_result"
    }
   ],
   "source": [
    "data.query(\"treat==1\")[Y].mean() - data.query(\"treat==0\")[Y].mean()"
   ]
  },
  {
   "cell_type": "markdown",
   "metadata": {},
   "source": [
    "### Estimation via linear regression"
   ]
  },
  {
   "cell_type": "code",
   "execution_count": 11,
   "metadata": {},
   "outputs": [
    {
     "data": {
      "text/html": [
       "<table class=\"simpletable\">\n",
       "<tr>\n",
       "      <td></td>         <th>coef</th>     <th>std err</th>      <th>t</th>      <th>P>|t|</th>  <th>[0.025</th>    <th>0.975]</th>  \n",
       "</tr>\n",
       "<tr>\n",
       "  <th>Intercept</th> <td> 4554.8011</td> <td>  408.046</td> <td>   11.162</td> <td> 0.000</td> <td> 3752.855</td> <td> 5356.747</td>\n",
       "</tr>\n",
       "<tr>\n",
       "  <th>treat</th>     <td> 1794.3424</td> <td>  632.853</td> <td>    2.835</td> <td> 0.005</td> <td>  550.574</td> <td> 3038.110</td>\n",
       "</tr>\n",
       "</table>"
      ],
      "text/latex": [
       "\\begin{center}\n",
       "\\begin{tabular}{lcccccc}\n",
       "\\toprule\n",
       "                   & \\textbf{coef} & \\textbf{std err} & \\textbf{t} & \\textbf{P$> |$t$|$} & \\textbf{[0.025} & \\textbf{0.975]}  \\\\\n",
       "\\midrule\n",
       "\\textbf{Intercept} &    4554.8011  &      408.046     &    11.162  &         0.000        &     3752.855    &     5356.747     \\\\\n",
       "\\textbf{treat}     &    1794.3424  &      632.853     &     2.835  &         0.005        &      550.574    &     3038.110     \\\\\n",
       "\\bottomrule\n",
       "\\end{tabular}\n",
       "\\end{center}"
      ],
      "text/plain": [
       "<class 'statsmodels.iolib.table.SimpleTable'>"
      ]
     },
     "execution_count": 11,
     "metadata": {},
     "output_type": "execute_result"
    }
   ],
   "source": [
    "lr = smf.ols(\"re78 ~ treat\", data=data).fit()\n",
    "\n",
    "lr.summary().tables[1]"
   ]
  },
  {
   "cell_type": "code",
   "execution_count": null,
   "metadata": {},
   "outputs": [],
   "source": []
  }
 ],
 "metadata": {
  "kernelspec": {
   "display_name": "Python 3 (ipykernel)",
   "language": "python",
   "name": "python3"
  },
  "language_info": {
   "codemirror_mode": {
    "name": "ipython",
    "version": 3
   },
   "file_extension": ".py",
   "mimetype": "text/x-python",
   "name": "python",
   "nbconvert_exporter": "python",
   "pygments_lexer": "ipython3",
   "version": "3.10.6"
  }
 },
 "nbformat": 4,
 "nbformat_minor": 4
}
