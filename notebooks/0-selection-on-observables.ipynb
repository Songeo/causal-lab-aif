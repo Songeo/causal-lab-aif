{
 "cells": [
  {
   "cell_type": "markdown",
   "metadata": {},
   "source": [
    "## Session 4: Selection on observables \n",
    "____"
   ]
  },
  {
   "cell_type": "markdown",
   "metadata": {},
   "source": [
    "We can mimic the experimental context with observational data if the\n",
    "following assumptions hold"
   ]
  },
  {
   "cell_type": "markdown",
   "metadata": {},
   "source": [
    "### 1. Assumptions"
   ]
  },
  {
   "cell_type": "markdown",
   "metadata": {},
   "source": [
    "1. **Conditional independence assumption** (a.k.a unconfoundedness,\n",
    "a.k.a exogeneity)\n",
    "- Formally: ${Y(0), Y(1)} \\perp D | X$\n",
    "- Meaning: D is as good as randomly assigned among subjects with the\n",
    "sames values of X\n",
    "\n",
    "\n",
    "2. **Common support assumption**\n",
    "- Formally: $0 < p(X) < 1$, where $p(X) := P(D=1 | X)$ is the\n",
    "so-called propensity score\n",
    "- Meaning: For any combination of covariate values occurring in the\n",
    "population, there are both treated and nontreated subjects.\n",
    "\n",
    "\n",
    "3. Covariates are not affected by the treatment, but measured at or\n",
    "prior to the treatment assignment\n",
    "- Formally: $X(1) = X(0) = X$"
   ]
  },
  {
   "cell_type": "markdown",
   "metadata": {},
   "source": [
    "Comments:\n",
    "\n",
    "- Conditional independence:\n",
    "  - Unlikely to be satisfied in many empirical context: ability, intelligence, motivation, self-confidence, extrovertedness are rarely measured.\n",
    "  - Plausibility of this assumption needs to be scrutinized based on theoretical arguments, domain knowledge, or previous empirical findings.\n",
    "\n",
    "- Common support:\n",
    "  - This assumption rules out that the covariates deterministically predicts the treatment"
   ]
  },
  {
   "cell_type": "markdown",
   "metadata": {},
   "source": [
    "### 2. Identification of treatment effects"
   ]
  },
  {
   "cell_type": "markdown",
   "metadata": {},
   "source": [
    "Note that $E[Y(D)|X] = E[Y|D,X]$; hence, we have\n",
    "\n",
    "- The causal effects among subjects with the same values $x$ of observed covariates $$\\begin{align*}\\mathrm{CATE} &= E[Y(1)|X=x] - E[Y(0)|X=x] \\\\ &= E[Y|D=1, X=x] - E[Y|D=0, X=x],\\end{align*}$$\n",
    "- The average (homogeneous) treatment effect by averaging CATE across all values that $X$ takes **in the population** $$\\mathrm{ATE} = E[\\mathrm{CATE}]$$\n",
    "- The average treatment effect on the treated by averaging CATE across all values that $X$ takes **among the treated population** $$\\begin{align*}\\mathrm{ATET} &= E[E[Y|D=1,X=x]|D=1] - E[E[Y|D=0,X=x]|D=1] \\\\ &= E[Y|D=1] - E[E[Y|D=0,X=x]|D=1]\\end{align*}$$\n"
   ]
  },
  {
   "cell_type": "markdown",
   "metadata": {},
   "source": [
    "### 3. Estimation of treatment effects"
   ]
  },
  {
   "cell_type": "markdown",
   "metadata": {},
   "source": [
    "Since $E[Y(D)|X] = E[Y|D,X]$, we can use a regression model to estimate $E[Y|D,X]$\n",
    "\n",
    "$$E[Y|D,X] = \\alpha + \\beta_D D + \\beta_{X_1} X_1 + \\ldots \\beta_{X_K} X_K, \\qquad \\mathrm{ where } \\qquad \\hat{\\beta}_D =\\frac{\\widehat{\\mathrm{Cov}}(Y,D|X)}{\\widehat{\\mathrm{Var}}(D|X)}. \\qquad (*)$$\n",
    "\n",
    "Comments:\n",
    "- In general, $\\mathrm{Cov}(D,X) \\neq 0$ holds; so we expect a larger\n",
    "variance of $\\hat{\\beta}_D$ relative to the experimental context where\n",
    "$\\mathrm{Cov}(D,X) = 0$\n",
    "- Model misspecification (e.g., Y and X is not linear as in $(*)$)\n",
    "implies that $\\hat{\\beta}_D$ is biased and inconsistent, in contrast\n",
    "with the experimental context.\n",
    "- Omission of interactions between D and some or all variables in $X$\n",
    "causes $\\hat{\\beta}_D \\neq \\mathrm{CATE}$ and implicilty assumes that\n",
    "average effects are homogeneous, i.e. $\\mathrm{ATE} = \\mathrm{CATE} =\n",
    "\\mathrm{ATET}$."
   ]
  },
  {
   "cell_type": "markdown",
   "metadata": {},
   "source": [
    "### 4. Practice"
   ]
  },
  {
   "cell_type": "markdown",
   "metadata": {},
   "source": [
    "- [Imbens - Xu](https://arxiv.org/abs/2406.00827)\n",
    "- [Replica Imbens - Xu](https://yiqingxu.org/tutorials/lalonde/)"
   ]
  },
  {
   "cell_type": "markdown",
   "metadata": {},
   "source": [
    "### References"
   ]
  },
  {
   "cell_type": "markdown",
   "metadata": {},
   "source": [
    "- Huber, M. (2023). Causal analysis: Impact evaluation and Causal Machine Learning with applications in R. MIT Press."
   ]
  },
  {
   "cell_type": "markdown",
   "metadata": {},
   "source": [
    "___"
   ]
  }
 ],
 "metadata": {
  "kernelspec": {
   "display_name": "Poetry",
   "language": "python",
   "name": "poetry-kernel"
  },
  "language_info": {
   "codemirror_mode": {
    "name": "ipython",
    "version": 3
   },
   "file_extension": ".py",
   "mimetype": "text/x-python",
   "name": "python",
   "nbconvert_exporter": "python",
   "pygments_lexer": "ipython3",
   "version": "3.10.6"
  }
 },
 "nbformat": 4,
 "nbformat_minor": 4
}
