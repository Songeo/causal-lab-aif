{
 "cells": [
  {
   "cell_type": "markdown",
   "metadata": {},
   "source": [
    "### Imports and setup"
   ]
  },
  {
   "cell_type": "code",
   "execution_count": 29,
   "metadata": {
    "tags": []
   },
   "outputs": [],
   "source": [
    "import joblib\n",
    "import matplotlib.pyplot as plt\n",
    "import numpy as np\n",
    "import pandas as pd\n",
    "import pyreadr\n",
    "import seaborn as sns\n",
    "import statsmodels.formula.api as smf\n",
    "from psmpy import PsmPy\n",
    "from scipy.spatial.distance import mahalanobis\n",
    "from sklearn.linear_model import LinearRegression, LogisticRegression\n",
    "\n",
    "pd.set_option(\"display.max_columns\", None)"
   ]
  },
  {
   "cell_type": "code",
   "execution_count": 2,
   "metadata": {
    "tags": []
   },
   "outputs": [],
   "source": [
    "PATH = \"../testdata/lalonde.RData\"\n",
    "seed = 1234\n",
    "num_trees = None\n",
    "\n",
    "Y = \"re78\"\n",
    "treat = \"treat\"\n",
    "covar = [\n",
    "    \"age\",\n",
    "    \"education\",\n",
    "    \"black\",\n",
    "    \"hispanic\",\n",
    "    \"married\",\n",
    "    \"nodegree\",\n",
    "    \"re74\",\n",
    "    \"re75\",\n",
    "    \"u74\",\n",
    "    \"u75\",\n",
    "]\n",
    "\n",
    "raw = pyreadr.read_r(PATH)\n",
    "# raw.keys()"
   ]
  },
  {
   "cell_type": "code",
   "execution_count": 48,
   "metadata": {
    "tags": []
   },
   "outputs": [],
   "source": [
    "def doubly_robust(df, X, T, Y):\n",
    "    ps = LogisticRegression(C=1e6, max_iter=1000).fit(df[X], df[T]).predict_proba(df[X])[:, 1]\n",
    "    mu0 = LinearRegression().fit(df.query(f\"{T}==0\")[X], df.query(f\"{T}==0\")[Y]).predict(df[X])\n",
    "    mu1 = LinearRegression().fit(df.query(f\"{T}==1\")[X], df.query(f\"{T}==1\")[Y]).predict(df[X])\n",
    "    return (\n",
    "        np.mean(df[T]*(df[Y] - mu1)/ps + mu1) -\n",
    "        np.mean((1-df[T])*(df[Y] - mu0)/(1-ps) + mu0)\n",
    "    )\n"
   ]
  },
  {
   "cell_type": "code",
   "execution_count": 3,
   "metadata": {
    "tags": []
   },
   "outputs": [],
   "source": [
    "# Chat GPT translation from R\n",
    "# ===========================\n",
    "\n",
    "\n",
    "def standardized_diff(data, treat, covar):\n",
    "    treated = data[data[treat] == 1]\n",
    "    control = data[data[treat] == 0]\n",
    "\n",
    "    std_diff = []\n",
    "    for var in covar:\n",
    "        mean_treated = treated[var].mean()\n",
    "        mean_control = control[var].mean()\n",
    "        sd_pooled = np.sqrt((treated[var].var() + control[var].var()) / 2)\n",
    "        std_diff.append((mean_treated - mean_control) / sd_pooled)\n",
    "\n",
    "    return np.array(std_diff)\n",
    "\n",
    "\n",
    "def love_plot(data_pre, data_post, treat, covar, threshold=0.1, title=\"Love Plot\"):\n",
    "    std_diff_pre = standardized_diff(data_pre, treat, covar)\n",
    "    std_diff_post = standardized_diff(data_post, treat, covar)\n",
    "\n",
    "    love_data = pd.DataFrame(\n",
    "        {\n",
    "            \"Variable\": np.tile(covar, 2),\n",
    "            \"Std_Diff\": np.concatenate([std_diff_pre, std_diff_post]),\n",
    "            \"Matching\": [\"Pre-Matching\"] * len(covar) + [\"Post-Matching\"] * len(covar),\n",
    "        }\n",
    "    )\n",
    "\n",
    "    plt.figure(figsize=(8, 6))\n",
    "    sns.scatterplot(data=love_data, x=\"Variable\", y=\"Std_Diff\", hue=\"Matching\", s=100)\n",
    "\n",
    "    plt.axhline(0, linestyle=\"--\", color=\"black\", linewidth=1)\n",
    "    plt.axhline(threshold, linestyle=\"--\", color=\"red\", linewidth=1)\n",
    "    plt.axhline(-threshold, linestyle=\"--\", color=\"red\", linewidth=1)\n",
    "\n",
    "    plt.title(title)\n",
    "    plt.xlabel(\"Covariates\")\n",
    "    plt.ylabel(\"Standardized Mean Differences\")\n",
    "    plt.xticks(rotation=90)\n",
    "    plt.gca().invert_yaxis()\n",
    "    plt.grid(True, which=\"both\", linestyle=\"--\", linewidth=0.5)\n",
    "    plt.tight_layout()\n",
    "    plt.show()"
   ]
  },
  {
   "cell_type": "markdown",
   "metadata": {},
   "source": [
    "___\n",
    "## LDW-CPS1"
   ]
  },
  {
   "cell_type": "code",
   "execution_count": 4,
   "metadata": {
    "tags": []
   },
   "outputs": [],
   "source": [
    "data = raw[\"ldw_cps\"].copy().reset_index(drop=True)\n",
    "data.reset_index(inplace=True, names=\"row_idx\")"
   ]
  },
  {
   "cell_type": "code",
   "execution_count": 5,
   "metadata": {
    "tags": []
   },
   "outputs": [
    {
     "data": {
      "text/plain": [
       "treat\n",
       "0.0    15992\n",
       "1.0      185\n",
       "Name: sample, dtype: int64"
      ]
     },
     "execution_count": 5,
     "metadata": {},
     "output_type": "execute_result"
    }
   ],
   "source": [
    "data.groupby(treat)[\"sample\"].count()"
   ]
  },
  {
   "cell_type": "markdown",
   "metadata": {},
   "source": [
    "### Covariate balance"
   ]
  },
  {
   "cell_type": "code",
   "execution_count": 6,
   "metadata": {
    "tags": []
   },
   "outputs": [
    {
     "data": {
      "text/html": [
       "<div>\n",
       "<style scoped>\n",
       "    .dataframe tbody tr th:only-of-type {\n",
       "        vertical-align: middle;\n",
       "    }\n",
       "\n",
       "    .dataframe tbody tr th {\n",
       "        vertical-align: top;\n",
       "    }\n",
       "\n",
       "    .dataframe thead th {\n",
       "        text-align: right;\n",
       "    }\n",
       "</style>\n",
       "<table border=\"1\" class=\"dataframe\">\n",
       "  <thead>\n",
       "    <tr style=\"text-align: right;\">\n",
       "      <th></th>\n",
       "      <th>mean</th>\n",
       "      <th>std</th>\n",
       "      <th>min</th>\n",
       "      <th>25%</th>\n",
       "      <th>50%</th>\n",
       "      <th>75%</th>\n",
       "      <th>max</th>\n",
       "    </tr>\n",
       "  </thead>\n",
       "  <tbody>\n",
       "    <tr>\n",
       "      <th>age</th>\n",
       "      <td>33.225238</td>\n",
       "      <td>11.045216</td>\n",
       "      <td>16.0</td>\n",
       "      <td>24.000000</td>\n",
       "      <td>31.000000</td>\n",
       "      <td>42.000000</td>\n",
       "      <td>55.000000</td>\n",
       "    </tr>\n",
       "    <tr>\n",
       "      <th>education</th>\n",
       "      <td>12.027514</td>\n",
       "      <td>2.870846</td>\n",
       "      <td>0.0</td>\n",
       "      <td>11.000000</td>\n",
       "      <td>12.000000</td>\n",
       "      <td>13.000000</td>\n",
       "      <td>18.000000</td>\n",
       "    </tr>\n",
       "    <tr>\n",
       "      <th>black</th>\n",
       "      <td>0.073537</td>\n",
       "      <td>0.261024</td>\n",
       "      <td>0.0</td>\n",
       "      <td>0.000000</td>\n",
       "      <td>0.000000</td>\n",
       "      <td>0.000000</td>\n",
       "      <td>1.000000</td>\n",
       "    </tr>\n",
       "    <tr>\n",
       "      <th>hispanic</th>\n",
       "      <td>0.072036</td>\n",
       "      <td>0.258556</td>\n",
       "      <td>0.0</td>\n",
       "      <td>0.000000</td>\n",
       "      <td>0.000000</td>\n",
       "      <td>0.000000</td>\n",
       "      <td>1.000000</td>\n",
       "    </tr>\n",
       "    <tr>\n",
       "      <th>married</th>\n",
       "      <td>0.711731</td>\n",
       "      <td>0.452971</td>\n",
       "      <td>0.0</td>\n",
       "      <td>0.000000</td>\n",
       "      <td>1.000000</td>\n",
       "      <td>1.000000</td>\n",
       "      <td>1.000000</td>\n",
       "    </tr>\n",
       "    <tr>\n",
       "      <th>nodegree</th>\n",
       "      <td>0.295835</td>\n",
       "      <td>0.456432</td>\n",
       "      <td>0.0</td>\n",
       "      <td>0.000000</td>\n",
       "      <td>0.000000</td>\n",
       "      <td>1.000000</td>\n",
       "      <td>1.000000</td>\n",
       "    </tr>\n",
       "    <tr>\n",
       "      <th>re74</th>\n",
       "      <td>14016.800360</td>\n",
       "      <td>9569.795964</td>\n",
       "      <td>0.0</td>\n",
       "      <td>4403.452393</td>\n",
       "      <td>15123.580078</td>\n",
       "      <td>23584.179688</td>\n",
       "      <td>25862.320312</td>\n",
       "    </tr>\n",
       "    <tr>\n",
       "      <th>re75</th>\n",
       "      <td>13650.803522</td>\n",
       "      <td>9270.403408</td>\n",
       "      <td>0.0</td>\n",
       "      <td>4398.823242</td>\n",
       "      <td>14557.110352</td>\n",
       "      <td>22923.736816</td>\n",
       "      <td>25243.550781</td>\n",
       "    </tr>\n",
       "    <tr>\n",
       "      <th>u74</th>\n",
       "      <td>0.119622</td>\n",
       "      <td>0.324530</td>\n",
       "      <td>0.0</td>\n",
       "      <td>0.000000</td>\n",
       "      <td>0.000000</td>\n",
       "      <td>0.000000</td>\n",
       "      <td>1.000000</td>\n",
       "    </tr>\n",
       "    <tr>\n",
       "      <th>u75</th>\n",
       "      <td>0.109305</td>\n",
       "      <td>0.312031</td>\n",
       "      <td>0.0</td>\n",
       "      <td>0.000000</td>\n",
       "      <td>0.000000</td>\n",
       "      <td>0.000000</td>\n",
       "      <td>1.000000</td>\n",
       "    </tr>\n",
       "  </tbody>\n",
       "</table>\n",
       "</div>"
      ],
      "text/plain": [
       "                   mean          std   min          25%           50%  \\\n",
       "age           33.225238    11.045216  16.0    24.000000     31.000000   \n",
       "education     12.027514     2.870846   0.0    11.000000     12.000000   \n",
       "black          0.073537     0.261024   0.0     0.000000      0.000000   \n",
       "hispanic       0.072036     0.258556   0.0     0.000000      0.000000   \n",
       "married        0.711731     0.452971   0.0     0.000000      1.000000   \n",
       "nodegree       0.295835     0.456432   0.0     0.000000      0.000000   \n",
       "re74       14016.800360  9569.795964   0.0  4403.452393  15123.580078   \n",
       "re75       13650.803522  9270.403408   0.0  4398.823242  14557.110352   \n",
       "u74            0.119622     0.324530   0.0     0.000000      0.000000   \n",
       "u75            0.109305     0.312031   0.0     0.000000      0.000000   \n",
       "\n",
       "                    75%           max  \n",
       "age           42.000000     55.000000  \n",
       "education     13.000000     18.000000  \n",
       "black          0.000000      1.000000  \n",
       "hispanic       0.000000      1.000000  \n",
       "married        1.000000      1.000000  \n",
       "nodegree       1.000000      1.000000  \n",
       "re74       23584.179688  25862.320312  \n",
       "re75       22923.736816  25243.550781  \n",
       "u74            0.000000      1.000000  \n",
       "u75            0.000000      1.000000  "
      ]
     },
     "execution_count": 6,
     "metadata": {},
     "output_type": "execute_result"
    }
   ],
   "source": [
    "data[data[treat] == 0][covar].describe().T.drop(columns=[\"count\"])"
   ]
  },
  {
   "cell_type": "code",
   "execution_count": 7,
   "metadata": {
    "tags": []
   },
   "outputs": [
    {
     "data": {
      "text/html": [
       "<div>\n",
       "<style scoped>\n",
       "    .dataframe tbody tr th:only-of-type {\n",
       "        vertical-align: middle;\n",
       "    }\n",
       "\n",
       "    .dataframe tbody tr th {\n",
       "        vertical-align: top;\n",
       "    }\n",
       "\n",
       "    .dataframe thead th {\n",
       "        text-align: right;\n",
       "    }\n",
       "</style>\n",
       "<table border=\"1\" class=\"dataframe\">\n",
       "  <thead>\n",
       "    <tr style=\"text-align: right;\">\n",
       "      <th></th>\n",
       "      <th>mean</th>\n",
       "      <th>std</th>\n",
       "      <th>min</th>\n",
       "      <th>25%</th>\n",
       "      <th>50%</th>\n",
       "      <th>75%</th>\n",
       "      <th>max</th>\n",
       "    </tr>\n",
       "  </thead>\n",
       "  <tbody>\n",
       "    <tr>\n",
       "      <th>age</th>\n",
       "      <td>25.816216</td>\n",
       "      <td>7.155019</td>\n",
       "      <td>17.0</td>\n",
       "      <td>20.0</td>\n",
       "      <td>25.0</td>\n",
       "      <td>29.000000</td>\n",
       "      <td>48.000000</td>\n",
       "    </tr>\n",
       "    <tr>\n",
       "      <th>education</th>\n",
       "      <td>10.345946</td>\n",
       "      <td>2.010650</td>\n",
       "      <td>4.0</td>\n",
       "      <td>9.0</td>\n",
       "      <td>11.0</td>\n",
       "      <td>12.000000</td>\n",
       "      <td>16.000000</td>\n",
       "    </tr>\n",
       "    <tr>\n",
       "      <th>black</th>\n",
       "      <td>0.843243</td>\n",
       "      <td>0.364558</td>\n",
       "      <td>0.0</td>\n",
       "      <td>1.0</td>\n",
       "      <td>1.0</td>\n",
       "      <td>1.000000</td>\n",
       "      <td>1.000000</td>\n",
       "    </tr>\n",
       "    <tr>\n",
       "      <th>hispanic</th>\n",
       "      <td>0.059459</td>\n",
       "      <td>0.237124</td>\n",
       "      <td>0.0</td>\n",
       "      <td>0.0</td>\n",
       "      <td>0.0</td>\n",
       "      <td>0.000000</td>\n",
       "      <td>1.000000</td>\n",
       "    </tr>\n",
       "    <tr>\n",
       "      <th>married</th>\n",
       "      <td>0.189189</td>\n",
       "      <td>0.392722</td>\n",
       "      <td>0.0</td>\n",
       "      <td>0.0</td>\n",
       "      <td>0.0</td>\n",
       "      <td>0.000000</td>\n",
       "      <td>1.000000</td>\n",
       "    </tr>\n",
       "    <tr>\n",
       "      <th>nodegree</th>\n",
       "      <td>0.708108</td>\n",
       "      <td>0.455867</td>\n",
       "      <td>0.0</td>\n",
       "      <td>0.0</td>\n",
       "      <td>1.0</td>\n",
       "      <td>1.000000</td>\n",
       "      <td>1.000000</td>\n",
       "    </tr>\n",
       "    <tr>\n",
       "      <th>re74</th>\n",
       "      <td>2095.573693</td>\n",
       "      <td>4886.620354</td>\n",
       "      <td>0.0</td>\n",
       "      <td>0.0</td>\n",
       "      <td>0.0</td>\n",
       "      <td>1291.468018</td>\n",
       "      <td>35040.070312</td>\n",
       "    </tr>\n",
       "    <tr>\n",
       "      <th>re75</th>\n",
       "      <td>1532.055313</td>\n",
       "      <td>3219.250879</td>\n",
       "      <td>0.0</td>\n",
       "      <td>0.0</td>\n",
       "      <td>0.0</td>\n",
       "      <td>1817.284058</td>\n",
       "      <td>25142.240234</td>\n",
       "    </tr>\n",
       "    <tr>\n",
       "      <th>u74</th>\n",
       "      <td>0.708108</td>\n",
       "      <td>0.455867</td>\n",
       "      <td>0.0</td>\n",
       "      <td>0.0</td>\n",
       "      <td>1.0</td>\n",
       "      <td>1.000000</td>\n",
       "      <td>1.000000</td>\n",
       "    </tr>\n",
       "    <tr>\n",
       "      <th>u75</th>\n",
       "      <td>0.600000</td>\n",
       "      <td>0.491227</td>\n",
       "      <td>0.0</td>\n",
       "      <td>0.0</td>\n",
       "      <td>1.0</td>\n",
       "      <td>1.000000</td>\n",
       "      <td>1.000000</td>\n",
       "    </tr>\n",
       "  </tbody>\n",
       "</table>\n",
       "</div>"
      ],
      "text/plain": [
       "                  mean          std   min   25%   50%          75%  \\\n",
       "age          25.816216     7.155019  17.0  20.0  25.0    29.000000   \n",
       "education    10.345946     2.010650   4.0   9.0  11.0    12.000000   \n",
       "black         0.843243     0.364558   0.0   1.0   1.0     1.000000   \n",
       "hispanic      0.059459     0.237124   0.0   0.0   0.0     0.000000   \n",
       "married       0.189189     0.392722   0.0   0.0   0.0     0.000000   \n",
       "nodegree      0.708108     0.455867   0.0   0.0   1.0     1.000000   \n",
       "re74       2095.573693  4886.620354   0.0   0.0   0.0  1291.468018   \n",
       "re75       1532.055313  3219.250879   0.0   0.0   0.0  1817.284058   \n",
       "u74           0.708108     0.455867   0.0   0.0   1.0     1.000000   \n",
       "u75           0.600000     0.491227   0.0   0.0   1.0     1.000000   \n",
       "\n",
       "                    max  \n",
       "age           48.000000  \n",
       "education     16.000000  \n",
       "black          1.000000  \n",
       "hispanic       1.000000  \n",
       "married        1.000000  \n",
       "nodegree       1.000000  \n",
       "re74       35040.070312  \n",
       "re75       25142.240234  \n",
       "u74            1.000000  \n",
       "u75            1.000000  "
      ]
     },
     "execution_count": 7,
     "metadata": {},
     "output_type": "execute_result"
    }
   ],
   "source": [
    "data[data[treat] == 1][covar].describe().T.drop(columns=[\"count\"])"
   ]
  },
  {
   "cell_type": "markdown",
   "metadata": {},
   "source": [
    "### Positivity check"
   ]
  },
  {
   "cell_type": "code",
   "execution_count": 8,
   "metadata": {
    "tags": []
   },
   "outputs": [
    {
     "data": {
      "image/png": "[encoded data removed]",
      "text/plain": [
       "<Figure size 700x500 with 1 Axes>"
      ]
     },
     "metadata": {},
     "output_type": "display_data"
    }
   ],
   "source": [
    "psm = PsmPy(data, treatment=treat, indx=\"row_idx\", exclude=[\"data_id\", Y, \"sample\"])\n",
    "psm.logistic_ps(balance=False)\n",
    "\n",
    "plt.figure(figsize=(7, 5))\n",
    "sns.histplot(\n",
    "    psm.predicted_data.query(\"treat==0\")[\"propensity_logit\"],\n",
    "    kde=False,\n",
    "    label=\"Non Treated\",\n",
    "    bins=50,\n",
    "    stat=\"density\",\n",
    ")\n",
    "sns.histplot(\n",
    "    psm.predicted_data.query(\"treat==1\")[\"propensity_logit\"],\n",
    "    kde=False,\n",
    "    label=\"Treated\",\n",
    "    bins=50,\n",
    "    stat=\"density\",\n",
    ")\n",
    "plt.title(\"Positivity Check\")\n",
    "plt.legend();"
   ]
  },
  {
   "cell_type": "markdown",
   "metadata": {},
   "source": [
    "### Mean difference"
   ]
  },
  {
   "cell_type": "code",
   "execution_count": 9,
   "metadata": {
    "tags": []
   },
   "outputs": [
    {
     "data": {
      "text/plain": [
       "np.float64(-8497.516148132978)"
      ]
     },
     "execution_count": 9,
     "metadata": {},
     "output_type": "execute_result"
    }
   ],
   "source": [
    "data.query(\"treat==1\")[Y].mean() - data.query(\"treat==0\")[Y].mean()"
   ]
  },
  {
   "cell_type": "markdown",
   "metadata": {},
   "source": [
    "### Estimation via linear regression"
   ]
  },
  {
   "cell_type": "code",
   "execution_count": 10,
   "metadata": {
    "tags": []
   },
   "outputs": [
    {
     "data": {
      "text/html": [
       "<table class=\"simpletable\">\n",
       "<tr>\n",
       "      <td></td>         <th>coef</th>     <th>std err</th>      <th>t</th>      <th>P>|t|</th>  <th>[0.025</th>    <th>0.975]</th>  \n",
       "</tr>\n",
       "<tr>\n",
       "  <th>Intercept</th> <td> 1.485e+04</td> <td>   76.143</td> <td>  194.984</td> <td> 0.000</td> <td> 1.47e+04</td> <td>  1.5e+04</td>\n",
       "</tr>\n",
       "<tr>\n",
       "  <th>treat</th>     <td>-8497.5161</td> <td>  712.021</td> <td>  -11.934</td> <td> 0.000</td> <td>-9893.156</td> <td>-7101.877</td>\n",
       "</tr>\n",
       "</table>"
      ],
      "text/latex": [
       "\\begin{center}\n",
       "\\begin{tabular}{lcccccc}\n",
       "\\toprule\n",
       "                   & \\textbf{coef} & \\textbf{std err} & \\textbf{t} & \\textbf{P$> |$t$|$} & \\textbf{[0.025} & \\textbf{0.975]}  \\\\\n",
       "\\midrule\n",
       "\\textbf{Intercept} &    1.485e+04  &       76.143     &   194.984  &         0.000        &     1.47e+04    &      1.5e+04     \\\\\n",
       "\\textbf{treat}     &   -8497.5161  &      712.021     &   -11.934  &         0.000        &    -9893.156    &    -7101.877     \\\\\n",
       "\\bottomrule\n",
       "\\end{tabular}\n",
       "\\end{center}"
      ],
      "text/plain": [
       "<class 'statsmodels.iolib.table.SimpleTable'>"
      ]
     },
     "execution_count": 10,
     "metadata": {},
     "output_type": "execute_result"
    }
   ],
   "source": [
    "lr = smf.ols(\"re78 ~ treat\", data=data).fit()\n",
    "\n",
    "lr.summary().tables[1]"
   ]
  },
  {
   "cell_type": "code",
   "execution_count": 11,
   "metadata": {
    "tags": []
   },
   "outputs": [
    {
     "data": {
      "text/html": [
       "<table class=\"simpletable\">\n",
       "<tr>\n",
       "      <td></td>         <th>coef</th>     <th>std err</th>      <th>t</th>      <th>P>|t|</th>  <th>[0.025</th>    <th>0.975]</th>  \n",
       "</tr>\n",
       "<tr>\n",
       "  <th>Intercept</th> <td> 5977.4241</td> <td>  461.135</td> <td>   12.962</td> <td> 0.000</td> <td> 5073.548</td> <td> 6881.300</td>\n",
       "</tr>\n",
       "<tr>\n",
       "  <th>treat</th>     <td>  966.7699</td> <td>  573.398</td> <td>    1.686</td> <td> 0.092</td> <td> -157.153</td> <td> 2090.693</td>\n",
       "</tr>\n",
       "<tr>\n",
       "  <th>age</th>       <td>  -87.0158</td> <td>    6.206</td> <td>  -14.022</td> <td> 0.000</td> <td>  -99.180</td> <td>  -74.852</td>\n",
       "</tr>\n",
       "<tr>\n",
       "  <th>education</th> <td>  239.0579</td> <td>   29.635</td> <td>    8.067</td> <td> 0.000</td> <td>  180.970</td> <td>  297.146</td>\n",
       "</tr>\n",
       "<tr>\n",
       "  <th>black</th>     <td> -902.9544</td> <td>  220.263</td> <td>   -4.099</td> <td> 0.000</td> <td>-1334.695</td> <td> -471.214</td>\n",
       "</tr>\n",
       "<tr>\n",
       "  <th>hispanic</th>  <td> -159.0173</td> <td>  226.232</td> <td>   -0.703</td> <td> 0.482</td> <td> -602.458</td> <td>  284.423</td>\n",
       "</tr>\n",
       "<tr>\n",
       "  <th>married</th>   <td>  595.4408</td> <td>  147.156</td> <td>    4.046</td> <td> 0.000</td> <td>  306.999</td> <td>  883.883</td>\n",
       "</tr>\n",
       "<tr>\n",
       "  <th>nodegree</th>  <td>  217.8513</td> <td>  184.051</td> <td>    1.184</td> <td> 0.237</td> <td> -142.909</td> <td>  578.612</td>\n",
       "</tr>\n",
       "<tr>\n",
       "  <th>re74</th>      <td>    0.6267</td> <td>    0.008</td> <td>   74.073</td> <td> 0.000</td> <td>    0.610</td> <td>    0.643</td>\n",
       "</tr>\n",
       "<tr>\n",
       "  <th>u74</th>       <td> 1345.7785</td> <td>  237.846</td> <td>    5.658</td> <td> 0.000</td> <td>  879.573</td> <td> 1811.984</td>\n",
       "</tr>\n",
       "<tr>\n",
       "  <th>u75</th>       <td>-4307.0626</td> <td>  234.527</td> <td>  -18.365</td> <td> 0.000</td> <td>-4766.762</td> <td>-3847.363</td>\n",
       "</tr>\n",
       "</table>"
      ],
      "text/latex": [
       "\\begin{center}\n",
       "\\begin{tabular}{lcccccc}\n",
       "\\toprule\n",
       "                   & \\textbf{coef} & \\textbf{std err} & \\textbf{t} & \\textbf{P$> |$t$|$} & \\textbf{[0.025} & \\textbf{0.975]}  \\\\\n",
       "\\midrule\n",
       "\\textbf{Intercept} &    5977.4241  &      461.135     &    12.962  &         0.000        &     5073.548    &     6881.300     \\\\\n",
       "\\textbf{treat}     &     966.7699  &      573.398     &     1.686  &         0.092        &     -157.153    &     2090.693     \\\\\n",
       "\\textbf{age}       &     -87.0158  &        6.206     &   -14.022  &         0.000        &      -99.180    &      -74.852     \\\\\n",
       "\\textbf{education} &     239.0579  &       29.635     &     8.067  &         0.000        &      180.970    &      297.146     \\\\\n",
       "\\textbf{black}     &    -902.9544  &      220.263     &    -4.099  &         0.000        &    -1334.695    &     -471.214     \\\\\n",
       "\\textbf{hispanic}  &    -159.0173  &      226.232     &    -0.703  &         0.482        &     -602.458    &      284.423     \\\\\n",
       "\\textbf{married}   &     595.4408  &      147.156     &     4.046  &         0.000        &      306.999    &      883.883     \\\\\n",
       "\\textbf{nodegree}  &     217.8513  &      184.051     &     1.184  &         0.237        &     -142.909    &      578.612     \\\\\n",
       "\\textbf{re74}      &       0.6267  &        0.008     &    74.073  &         0.000        &        0.610    &        0.643     \\\\\n",
       "\\textbf{u74}       &    1345.7785  &      237.846     &     5.658  &         0.000        &      879.573    &     1811.984     \\\\\n",
       "\\textbf{u75}       &   -4307.0626  &      234.527     &   -18.365  &         0.000        &    -4766.762    &    -3847.363     \\\\\n",
       "\\bottomrule\n",
       "\\end{tabular}\n",
       "\\end{center}"
      ],
      "text/plain": [
       "<class 'statsmodels.iolib.table.SimpleTable'>"
      ]
     },
     "execution_count": 11,
     "metadata": {},
     "output_type": "execute_result"
    }
   ],
   "source": [
    "eqn = \"re78 ~ treat + age + education + black + hispanic + married + nodegree + re74 + re74 + u74 + u75\"\n",
    "lr = smf.ols(eqn, data=data).fit()\n",
    "\n",
    "lr.summary().tables[1]"
   ]
  },
  {
   "cell_type": "markdown",
   "metadata": {},
   "source": [
    "### Assessing overlap"
   ]
  },
  {
   "cell_type": "markdown",
   "metadata": {},
   "source": [
    "\n",
    "- First, we merge and estimate each unit's propensity of being included in the experiment. We set a threshold to trim data with estimated propensity scores exceeding this value. Merely trimming the nonexperimental controls is inadequate, as the nonexperimental dataset lack partiular profiles of participants of the experiment."
   ]
  },
  {
   "cell_type": "code",
   "execution_count": 12,
   "metadata": {
    "tags": []
   },
   "outputs": [],
   "source": [
    "# Data preparation\n",
    "# ================\n",
    "ldw_co = raw[\"ldw_co\"].copy()\n",
    "ldw_co[\"treat\"] = 1\n",
    "\n",
    "ldw_cps_plus = pd.concat([raw[\"ldw_cps\"], raw[\"ldw_co\"]])"
   ]
  },
  {
   "cell_type": "code",
   "execution_count": 13,
   "metadata": {
    "tags": []
   },
   "outputs": [
    {
     "data": {
      "text/html": [
       "<div>\n",
       "<style scoped>\n",
       "    .dataframe tbody tr th:only-of-type {\n",
       "        vertical-align: middle;\n",
       "    }\n",
       "\n",
       "    .dataframe tbody tr th {\n",
       "        vertical-align: top;\n",
       "    }\n",
       "\n",
       "    .dataframe thead th {\n",
       "        text-align: right;\n",
       "    }\n",
       "</style>\n",
       "<table border=\"1\" class=\"dataframe\">\n",
       "  <thead>\n",
       "    <tr style=\"text-align: right;\">\n",
       "      <th></th>\n",
       "      <th>row_idx</th>\n",
       "      <th>sample</th>\n",
       "      <th>re78</th>\n",
       "      <th>age</th>\n",
       "      <th>education</th>\n",
       "      <th>black</th>\n",
       "      <th>hispanic</th>\n",
       "      <th>married</th>\n",
       "      <th>nodegree</th>\n",
       "      <th>re74</th>\n",
       "      <th>re75</th>\n",
       "      <th>u74</th>\n",
       "      <th>u75</th>\n",
       "      <th>propensity_score</th>\n",
       "      <th>propensity_logit</th>\n",
       "      <th>treat</th>\n",
       "    </tr>\n",
       "  </thead>\n",
       "  <tbody>\n",
       "    <tr>\n",
       "      <th>0</th>\n",
       "      <td>0</td>\n",
       "      <td>1.0</td>\n",
       "      <td>9930.045898</td>\n",
       "      <td>37.0</td>\n",
       "      <td>11.0</td>\n",
       "      <td>1.0</td>\n",
       "      <td>0.0</td>\n",
       "      <td>1.0</td>\n",
       "      <td>1.0</td>\n",
       "      <td>0.0</td>\n",
       "      <td>0.0</td>\n",
       "      <td>1.0</td>\n",
       "      <td>1.0</td>\n",
       "      <td>0.089470</td>\n",
       "      <td>-2.320129</td>\n",
       "      <td>1</td>\n",
       "    </tr>\n",
       "    <tr>\n",
       "      <th>1</th>\n",
       "      <td>1</td>\n",
       "      <td>1.0</td>\n",
       "      <td>3595.894043</td>\n",
       "      <td>22.0</td>\n",
       "      <td>9.0</td>\n",
       "      <td>0.0</td>\n",
       "      <td>1.0</td>\n",
       "      <td>0.0</td>\n",
       "      <td>1.0</td>\n",
       "      <td>0.0</td>\n",
       "      <td>0.0</td>\n",
       "      <td>1.0</td>\n",
       "      <td>1.0</td>\n",
       "      <td>0.029599</td>\n",
       "      <td>-3.489956</td>\n",
       "      <td>1</td>\n",
       "    </tr>\n",
       "    <tr>\n",
       "      <th>2</th>\n",
       "      <td>2</td>\n",
       "      <td>1.0</td>\n",
       "      <td>24909.449219</td>\n",
       "      <td>30.0</td>\n",
       "      <td>12.0</td>\n",
       "      <td>1.0</td>\n",
       "      <td>0.0</td>\n",
       "      <td>0.0</td>\n",
       "      <td>0.0</td>\n",
       "      <td>0.0</td>\n",
       "      <td>0.0</td>\n",
       "      <td>1.0</td>\n",
       "      <td>1.0</td>\n",
       "      <td>0.217297</td>\n",
       "      <td>-1.281488</td>\n",
       "      <td>1</td>\n",
       "    </tr>\n",
       "  </tbody>\n",
       "</table>\n",
       "</div>"
      ],
      "text/plain": [
       "   row_idx  sample          re78   age  education  black  hispanic  married  \\\n",
       "0        0     1.0   9930.045898  37.0       11.0    1.0       0.0      1.0   \n",
       "1        1     1.0   3595.894043  22.0        9.0    0.0       1.0      0.0   \n",
       "2        2     1.0  24909.449219  30.0       12.0    1.0       0.0      0.0   \n",
       "\n",
       "   nodegree  re74  re75  u74  u75  propensity_score  propensity_logit  treat  \n",
       "0       1.0   0.0   0.0  1.0  1.0          0.089470         -2.320129      1  \n",
       "1       1.0   0.0   0.0  1.0  1.0          0.029599         -3.489956      1  \n",
       "2       0.0   0.0   0.0  1.0  1.0          0.217297         -1.281488      1  "
      ]
     },
     "execution_count": 13,
     "metadata": {},
     "output_type": "execute_result"
    }
   ],
   "source": [
    "data = ldw_cps_plus.copy().reset_index(drop=True)\n",
    "data.reset_index(inplace=True, names=\"row_idx\")\n",
    "\n",
    "psm_ = PsmPy(data, treatment=treat, indx=\"row_idx\", exclude=[\"data_id\", Y, \"sample\"])\n",
    "psm_.logistic_ps(balance=False)\n",
    "\n",
    "tmp = pd.merge(\n",
    "    data[[\"row_idx\", \"sample\", Y]], psm_.predicted_data, on=[\"row_idx\"], how=\"left\"\n",
    ")\n",
    "tmp.head(3)"
   ]
  },
  {
   "cell_type": "markdown",
   "metadata": {},
   "source": [
    "- Second, using the trimmed data and the same set of covariates, we re-estimate propensity scores, this time excluding the experimental controls."
   ]
  },
  {
   "cell_type": "code",
   "execution_count": 14,
   "metadata": {
    "tags": []
   },
   "outputs": [],
   "source": [
    "ldw_cps_trim = tmp[(tmp[\"propensity_score\"] < 0.9) & (tmp[\"sample\"].isin([1, 3]))]"
   ]
  },
  {
   "cell_type": "code",
   "execution_count": 15,
   "metadata": {
    "tags": []
   },
   "outputs": [],
   "source": [
    "# Recalculate PS over trimmed data\n",
    "\n",
    "psm = PsmPy(ldw_cps_trim, treatment=treat, indx=\"row_idx\", exclude=[Y, \"sample\"])\n",
    "psm.logistic_ps(balance=False)\n",
    "psm.knn_matched(matcher=\"propensity_score\", replacement=False, caliper=None)\n",
    "\n",
    "tmp = pd.merge(\n",
    "    data[[\"row_idx\", \"sample\", Y]], psm.df_matched, on=[\"row_idx\"], how=\"left\"\n",
    ")\n",
    "\n",
    "treat_grp = tmp[tmp[\"treat\"] == 1].copy()\n",
    "untreat_grp = tmp[tmp[\"treat\"] == 0].copy()\n",
    "\n",
    "treat_grp[\"matched_ID\"] = treat_grp[\"matched_ID\"].astype(\"int\")"
   ]
  },
  {
   "cell_type": "code",
   "execution_count": 16,
   "metadata": {
    "tags": []
   },
   "outputs": [
    {
     "name": "stdout",
     "output_type": "stream",
     "text": [
      "(185, 34)\n"
     ]
    },
    {
     "data": {
      "text/html": [
       "<div>\n",
       "<style scoped>\n",
       "    .dataframe tbody tr th:only-of-type {\n",
       "        vertical-align: middle;\n",
       "    }\n",
       "\n",
       "    .dataframe tbody tr th {\n",
       "        vertical-align: top;\n",
       "    }\n",
       "\n",
       "    .dataframe thead th {\n",
       "        text-align: right;\n",
       "    }\n",
       "</style>\n",
       "<table border=\"1\" class=\"dataframe\">\n",
       "  <thead>\n",
       "    <tr style=\"text-align: right;\">\n",
       "      <th></th>\n",
       "      <th>propensity_score_treat</th>\n",
       "      <th>propensity_score_untreat</th>\n",
       "    </tr>\n",
       "  </thead>\n",
       "  <tbody>\n",
       "    <tr>\n",
       "      <th>0</th>\n",
       "      <td>0.145237</td>\n",
       "      <td>0.145370</td>\n",
       "    </tr>\n",
       "    <tr>\n",
       "      <th>1</th>\n",
       "      <td>0.036055</td>\n",
       "      <td>0.036053</td>\n",
       "    </tr>\n",
       "    <tr>\n",
       "      <th>2</th>\n",
       "      <td>0.353428</td>\n",
       "      <td>0.353428</td>\n",
       "    </tr>\n",
       "    <tr>\n",
       "      <th>3</th>\n",
       "      <td>0.337995</td>\n",
       "      <td>0.337243</td>\n",
       "    </tr>\n",
       "    <tr>\n",
       "      <th>4</th>\n",
       "      <td>0.444545</td>\n",
       "      <td>0.446086</td>\n",
       "    </tr>\n",
       "  </tbody>\n",
       "</table>\n",
       "</div>"
      ],
      "text/plain": [
       "   propensity_score_treat  propensity_score_untreat\n",
       "0                0.145237                  0.145370\n",
       "1                0.036055                  0.036053\n",
       "2                0.353428                  0.353428\n",
       "3                0.337995                  0.337243\n",
       "4                0.444545                  0.446086"
      ]
     },
     "execution_count": 16,
     "metadata": {},
     "output_type": "execute_result"
    }
   ],
   "source": [
    "aux = pd.merge(\n",
    "    treat_grp,\n",
    "    untreat_grp,\n",
    "    left_on=\"matched_ID\",\n",
    "    right_on=\"row_idx\",\n",
    "    how=\"left\",\n",
    "    suffixes=[\"_treat\", \"_untreat\"],\n",
    ")\n",
    "\n",
    "print(aux.shape)\n",
    "aux[[\"propensity_score_treat\", \"propensity_score_untreat\"]].head()"
   ]
  },
  {
   "cell_type": "code",
   "execution_count": 17,
   "metadata": {
    "tags": []
   },
   "outputs": [
    {
     "data": {
      "text/plain": [
       "370"
      ]
     },
     "execution_count": 17,
     "metadata": {},
     "output_type": "execute_result"
    }
   ],
   "source": [
    "matched_ids = (\n",
    "    aux.loc[:, \"row_idx_treat\"].tolist() + aux.loc[:, \"row_idx_untreat\"].tolist()\n",
    ")\n",
    "len(matched_ids)"
   ]
  },
  {
   "cell_type": "code",
   "execution_count": 18,
   "metadata": {
    "tags": []
   },
   "outputs": [],
   "source": [
    "ldw_cps_trim_match = (\n",
    "    tmp[tmp[\"row_idx\"].isin(matched_ids)].drop(columns=[\"matched_ID\"]).copy()\n",
    ")"
   ]
  },
  {
   "cell_type": "code",
   "execution_count": 19,
   "metadata": {
    "tags": []
   },
   "outputs": [
    {
     "data": {
      "image/png": "[encoded data removed]",
      "text/plain": [
       "<Figure size 700x500 with 1 Axes>"
      ]
     },
     "metadata": {},
     "output_type": "display_data"
    }
   ],
   "source": [
    "plt.figure(figsize=(7, 5))\n",
    "sns.histplot(\n",
    "    ldw_cps_trim_match.query(\"treat==0\")[\"propensity_logit\"],\n",
    "    kde=False,\n",
    "    label=\"Non Treated\",\n",
    "    bins=50,\n",
    "    stat=\"density\",\n",
    ")\n",
    "sns.histplot(\n",
    "    ldw_cps_trim_match.query(\"treat==1\")[\"propensity_logit\"],\n",
    "    kde=False,\n",
    "    label=\"Treated\",\n",
    "    bins=50,\n",
    "    stat=\"density\",\n",
    ")\n",
    "plt.title(\"Positivity Check\")\n",
    "plt.legend();"
   ]
  },
  {
   "cell_type": "markdown",
   "metadata": {},
   "source": [
    "### ATE"
   ]
  },
  {
   "cell_type": "code",
   "execution_count": 20,
   "metadata": {
    "tags": []
   },
   "outputs": [
    {
     "data": {
      "text/plain": [
       "np.float64(1414.9665154122022)"
      ]
     },
     "execution_count": 20,
     "metadata": {},
     "output_type": "execute_result"
    }
   ],
   "source": [
    "(\n",
    "    ldw_cps_trim_match.query(\"treat==1\")[Y].mean()\n",
    "    - ldw_cps_trim_match.query(\"treat==0\")[Y].mean()\n",
    ")"
   ]
  },
  {
   "cell_type": "markdown",
   "metadata": {},
   "source": [
    "## Doubly Robust Estimation"
   ]
  },
  {
   "cell_type": "code",
   "execution_count": 79,
   "metadata": {
    "tags": []
   },
   "outputs": [],
   "source": [
    "Y = \"re78\"\n",
    "T = \"treat\"\n",
    "X = ldw_cps_trim_match.columns.drop([T,Y,\"propensity_score\",\"propensity_logit\",\"row_idx\",\"sample\"])"
   ]
  },
  {
   "cell_type": "code",
   "execution_count": 80,
   "metadata": {
    "tags": []
   },
   "outputs": [
    {
     "name": "stderr",
     "output_type": "stream",
     "text": [
      "/Users/mi33064/Documents/AIF/Causal-Lab/causal-lab-aif/.venv-dev/causal_lab_aif-ppc9elkr-py3.10/lib/python3.10/site-packages/sklearn/linear_model/_logistic.py:469: ConvergenceWarning: lbfgs failed to converge (status=1):\n",
      "STOP: TOTAL NO. of ITERATIONS REACHED LIMIT.\n",
      "\n",
      "Increase the number of iterations (max_iter) or scale the data as shown in:\n",
      "    https://scikit-learn.org/stable/modules/preprocessing.html\n",
      "Please also refer to the documentation for alternative solver options:\n",
      "    https://scikit-learn.org/stable/modules/linear_model.html#logistic-regression\n",
      "  n_iter_i = _check_optimize_result(\n"
     ]
    },
    {
     "data": {
      "text/plain": [
       "np.float64(1327.0711790031828)"
      ]
     },
     "execution_count": 80,
     "metadata": {},
     "output_type": "execute_result"
    }
   ],
   "source": [
    "doubly_robust(ldw_cps_trim_match, X, T, Y)"
   ]
  },
  {
   "cell_type": "code",
   "execution_count": 75,
   "metadata": {
    "tags": []
   },
   "outputs": [],
   "source": [
    "from joblib import Parallel, delayed # for parallel processing\n",
    "\n",
    "np.random.seed(88)\n",
    "# run 1000 bootstrap samples\n",
    "bootstrap_sample = 1000\n",
    "ates = Parallel(n_jobs=4)(delayed(doubly_robust)(ldw_cps_trim_match.sample(frac=1, replace=True), X, T, Y)\n",
    "                          for _ in range(bootstrap_sample))\n",
    "ates = np.array(ates)"
   ]
  },
  {
   "cell_type": "code",
   "execution_count": 76,
   "metadata": {
    "tags": []
   },
   "outputs": [
    {
     "name": "stdout",
     "output_type": "stream",
     "text": [
      "ATE 95% CI: (np.float64(-357.63839478051915), np.float64(2401.5098218856383))\n"
     ]
    }
   ],
   "source": [
    "print(f\"ATE 95% CI:\", (np.percentile(ates, 2.5), np.percentile(ates, 97.5)))"
   ]
  },
  {
   "cell_type": "code",
   "execution_count": 77,
   "metadata": {
    "tags": []
   },
   "outputs": [
    {
     "data": {
      "image/png": "[encoded data removed]",
      "text/plain": [
       "<Figure size 1000x800 with 1 Axes>"
      ]
     },
     "metadata": {},
     "output_type": "display_data"
    }
   ],
   "source": [
    "sns.histplot(ates, kde=False)\n",
    "plt.vlines(np.percentile(ates, 2.5), 0, 20, linestyles=\"dotted\")\n",
    "plt.vlines(np.percentile(ates, 97.5), 0, 20, linestyles=\"dotted\", label=\"95% CI\")\n",
    "plt.title(\"ATE Bootstrap Distribution\")\n",
    "plt.legend();"
   ]
  },
  {
   "cell_type": "markdown",
   "metadata": {},
   "source": [
    "### Covariate balance of matched sample"
   ]
  },
  {
   "cell_type": "code",
   "execution_count": 21,
   "metadata": {
    "tags": []
   },
   "outputs": [
    {
     "data": {
      "text/html": [
       "<div>\n",
       "<style scoped>\n",
       "    .dataframe tbody tr th:only-of-type {\n",
       "        vertical-align: middle;\n",
       "    }\n",
       "\n",
       "    .dataframe tbody tr th {\n",
       "        vertical-align: top;\n",
       "    }\n",
       "\n",
       "    .dataframe thead th {\n",
       "        text-align: right;\n",
       "    }\n",
       "</style>\n",
       "<table border=\"1\" class=\"dataframe\">\n",
       "  <thead>\n",
       "    <tr style=\"text-align: right;\">\n",
       "      <th></th>\n",
       "      <th>mean</th>\n",
       "      <th>std</th>\n",
       "      <th>min</th>\n",
       "      <th>25%</th>\n",
       "      <th>50%</th>\n",
       "      <th>75%</th>\n",
       "      <th>max</th>\n",
       "    </tr>\n",
       "  </thead>\n",
       "  <tbody>\n",
       "    <tr>\n",
       "      <th>age</th>\n",
       "      <td>25.151351</td>\n",
       "      <td>10.570612</td>\n",
       "      <td>16.0</td>\n",
       "      <td>17.0</td>\n",
       "      <td>21.00000</td>\n",
       "      <td>29.000000</td>\n",
       "      <td>55.000000</td>\n",
       "    </tr>\n",
       "    <tr>\n",
       "      <th>education</th>\n",
       "      <td>10.010811</td>\n",
       "      <td>2.952503</td>\n",
       "      <td>0.0</td>\n",
       "      <td>9.0</td>\n",
       "      <td>10.00000</td>\n",
       "      <td>12.000000</td>\n",
       "      <td>18.000000</td>\n",
       "    </tr>\n",
       "    <tr>\n",
       "      <th>black</th>\n",
       "      <td>0.837838</td>\n",
       "      <td>0.369600</td>\n",
       "      <td>0.0</td>\n",
       "      <td>1.0</td>\n",
       "      <td>1.00000</td>\n",
       "      <td>1.000000</td>\n",
       "      <td>1.000000</td>\n",
       "    </tr>\n",
       "    <tr>\n",
       "      <th>hispanic</th>\n",
       "      <td>0.010811</td>\n",
       "      <td>0.103692</td>\n",
       "      <td>0.0</td>\n",
       "      <td>0.0</td>\n",
       "      <td>0.00000</td>\n",
       "      <td>0.000000</td>\n",
       "      <td>1.000000</td>\n",
       "    </tr>\n",
       "    <tr>\n",
       "      <th>married</th>\n",
       "      <td>0.194595</td>\n",
       "      <td>0.396963</td>\n",
       "      <td>0.0</td>\n",
       "      <td>0.0</td>\n",
       "      <td>0.00000</td>\n",
       "      <td>0.000000</td>\n",
       "      <td>1.000000</td>\n",
       "    </tr>\n",
       "    <tr>\n",
       "      <th>nodegree</th>\n",
       "      <td>0.632432</td>\n",
       "      <td>0.483451</td>\n",
       "      <td>0.0</td>\n",
       "      <td>0.0</td>\n",
       "      <td>1.00000</td>\n",
       "      <td>1.000000</td>\n",
       "      <td>1.000000</td>\n",
       "    </tr>\n",
       "    <tr>\n",
       "      <th>re74</th>\n",
       "      <td>1896.347830</td>\n",
       "      <td>3847.515020</td>\n",
       "      <td>0.0</td>\n",
       "      <td>0.0</td>\n",
       "      <td>0.00000</td>\n",
       "      <td>1714.358032</td>\n",
       "      <td>25836.849609</td>\n",
       "    </tr>\n",
       "    <tr>\n",
       "      <th>re75</th>\n",
       "      <td>1462.974121</td>\n",
       "      <td>3256.697744</td>\n",
       "      <td>0.0</td>\n",
       "      <td>0.0</td>\n",
       "      <td>44.75806</td>\n",
       "      <td>1482.386963</td>\n",
       "      <td>25243.550781</td>\n",
       "    </tr>\n",
       "    <tr>\n",
       "      <th>u74</th>\n",
       "      <td>0.535135</td>\n",
       "      <td>0.500117</td>\n",
       "      <td>0.0</td>\n",
       "      <td>0.0</td>\n",
       "      <td>1.00000</td>\n",
       "      <td>1.000000</td>\n",
       "      <td>1.000000</td>\n",
       "    </tr>\n",
       "    <tr>\n",
       "      <th>u75</th>\n",
       "      <td>0.497297</td>\n",
       "      <td>0.501350</td>\n",
       "      <td>0.0</td>\n",
       "      <td>0.0</td>\n",
       "      <td>0.00000</td>\n",
       "      <td>1.000000</td>\n",
       "      <td>1.000000</td>\n",
       "    </tr>\n",
       "  </tbody>\n",
       "</table>\n",
       "</div>"
      ],
      "text/plain": [
       "                  mean          std   min   25%       50%          75%  \\\n",
       "age          25.151351    10.570612  16.0  17.0  21.00000    29.000000   \n",
       "education    10.010811     2.952503   0.0   9.0  10.00000    12.000000   \n",
       "black         0.837838     0.369600   0.0   1.0   1.00000     1.000000   \n",
       "hispanic      0.010811     0.103692   0.0   0.0   0.00000     0.000000   \n",
       "married       0.194595     0.396963   0.0   0.0   0.00000     0.000000   \n",
       "nodegree      0.632432     0.483451   0.0   0.0   1.00000     1.000000   \n",
       "re74       1896.347830  3847.515020   0.0   0.0   0.00000  1714.358032   \n",
       "re75       1462.974121  3256.697744   0.0   0.0  44.75806  1482.386963   \n",
       "u74           0.535135     0.500117   0.0   0.0   1.00000     1.000000   \n",
       "u75           0.497297     0.501350   0.0   0.0   0.00000     1.000000   \n",
       "\n",
       "                    max  \n",
       "age           55.000000  \n",
       "education     18.000000  \n",
       "black          1.000000  \n",
       "hispanic       1.000000  \n",
       "married        1.000000  \n",
       "nodegree       1.000000  \n",
       "re74       25836.849609  \n",
       "re75       25243.550781  \n",
       "u74            1.000000  \n",
       "u75            1.000000  "
      ]
     },
     "execution_count": 21,
     "metadata": {},
     "output_type": "execute_result"
    }
   ],
   "source": [
    "ldw_cps_trim_match[ldw_cps_trim_match[treat] == 0][covar].describe().T.drop(\n",
    "    columns=[\"count\"]\n",
    ")"
   ]
  },
  {
   "cell_type": "code",
   "execution_count": 22,
   "metadata": {
    "tags": []
   },
   "outputs": [
    {
     "data": {
      "text/html": [
       "<div>\n",
       "<style scoped>\n",
       "    .dataframe tbody tr th:only-of-type {\n",
       "        vertical-align: middle;\n",
       "    }\n",
       "\n",
       "    .dataframe tbody tr th {\n",
       "        vertical-align: top;\n",
       "    }\n",
       "\n",
       "    .dataframe thead th {\n",
       "        text-align: right;\n",
       "    }\n",
       "</style>\n",
       "<table border=\"1\" class=\"dataframe\">\n",
       "  <thead>\n",
       "    <tr style=\"text-align: right;\">\n",
       "      <th></th>\n",
       "      <th>mean</th>\n",
       "      <th>std</th>\n",
       "      <th>min</th>\n",
       "      <th>25%</th>\n",
       "      <th>50%</th>\n",
       "      <th>75%</th>\n",
       "      <th>max</th>\n",
       "    </tr>\n",
       "  </thead>\n",
       "  <tbody>\n",
       "    <tr>\n",
       "      <th>age</th>\n",
       "      <td>25.816216</td>\n",
       "      <td>7.155019</td>\n",
       "      <td>17.0</td>\n",
       "      <td>20.0</td>\n",
       "      <td>25.0</td>\n",
       "      <td>29.000000</td>\n",
       "      <td>48.000000</td>\n",
       "    </tr>\n",
       "    <tr>\n",
       "      <th>education</th>\n",
       "      <td>10.345946</td>\n",
       "      <td>2.010650</td>\n",
       "      <td>4.0</td>\n",
       "      <td>9.0</td>\n",
       "      <td>11.0</td>\n",
       "      <td>12.000000</td>\n",
       "      <td>16.000000</td>\n",
       "    </tr>\n",
       "    <tr>\n",
       "      <th>black</th>\n",
       "      <td>0.843243</td>\n",
       "      <td>0.364558</td>\n",
       "      <td>0.0</td>\n",
       "      <td>1.0</td>\n",
       "      <td>1.0</td>\n",
       "      <td>1.000000</td>\n",
       "      <td>1.000000</td>\n",
       "    </tr>\n",
       "    <tr>\n",
       "      <th>hispanic</th>\n",
       "      <td>0.059459</td>\n",
       "      <td>0.237124</td>\n",
       "      <td>0.0</td>\n",
       "      <td>0.0</td>\n",
       "      <td>0.0</td>\n",
       "      <td>0.000000</td>\n",
       "      <td>1.000000</td>\n",
       "    </tr>\n",
       "    <tr>\n",
       "      <th>married</th>\n",
       "      <td>0.189189</td>\n",
       "      <td>0.392722</td>\n",
       "      <td>0.0</td>\n",
       "      <td>0.0</td>\n",
       "      <td>0.0</td>\n",
       "      <td>0.000000</td>\n",
       "      <td>1.000000</td>\n",
       "    </tr>\n",
       "    <tr>\n",
       "      <th>nodegree</th>\n",
       "      <td>0.708108</td>\n",
       "      <td>0.455867</td>\n",
       "      <td>0.0</td>\n",
       "      <td>0.0</td>\n",
       "      <td>1.0</td>\n",
       "      <td>1.000000</td>\n",
       "      <td>1.000000</td>\n",
       "    </tr>\n",
       "    <tr>\n",
       "      <th>re74</th>\n",
       "      <td>2095.573693</td>\n",
       "      <td>4886.620354</td>\n",
       "      <td>0.0</td>\n",
       "      <td>0.0</td>\n",
       "      <td>0.0</td>\n",
       "      <td>1291.468018</td>\n",
       "      <td>35040.070312</td>\n",
       "    </tr>\n",
       "    <tr>\n",
       "      <th>re75</th>\n",
       "      <td>1532.055313</td>\n",
       "      <td>3219.250879</td>\n",
       "      <td>0.0</td>\n",
       "      <td>0.0</td>\n",
       "      <td>0.0</td>\n",
       "      <td>1817.284058</td>\n",
       "      <td>25142.240234</td>\n",
       "    </tr>\n",
       "    <tr>\n",
       "      <th>u74</th>\n",
       "      <td>0.708108</td>\n",
       "      <td>0.455867</td>\n",
       "      <td>0.0</td>\n",
       "      <td>0.0</td>\n",
       "      <td>1.0</td>\n",
       "      <td>1.000000</td>\n",
       "      <td>1.000000</td>\n",
       "    </tr>\n",
       "    <tr>\n",
       "      <th>u75</th>\n",
       "      <td>0.600000</td>\n",
       "      <td>0.491227</td>\n",
       "      <td>0.0</td>\n",
       "      <td>0.0</td>\n",
       "      <td>1.0</td>\n",
       "      <td>1.000000</td>\n",
       "      <td>1.000000</td>\n",
       "    </tr>\n",
       "  </tbody>\n",
       "</table>\n",
       "</div>"
      ],
      "text/plain": [
       "                  mean          std   min   25%   50%          75%  \\\n",
       "age          25.816216     7.155019  17.0  20.0  25.0    29.000000   \n",
       "education    10.345946     2.010650   4.0   9.0  11.0    12.000000   \n",
       "black         0.843243     0.364558   0.0   1.0   1.0     1.000000   \n",
       "hispanic      0.059459     0.237124   0.0   0.0   0.0     0.000000   \n",
       "married       0.189189     0.392722   0.0   0.0   0.0     0.000000   \n",
       "nodegree      0.708108     0.455867   0.0   0.0   1.0     1.000000   \n",
       "re74       2095.573693  4886.620354   0.0   0.0   0.0  1291.468018   \n",
       "re75       1532.055313  3219.250879   0.0   0.0   0.0  1817.284058   \n",
       "u74           0.708108     0.455867   0.0   0.0   1.0     1.000000   \n",
       "u75           0.600000     0.491227   0.0   0.0   1.0     1.000000   \n",
       "\n",
       "                    max  \n",
       "age           48.000000  \n",
       "education     16.000000  \n",
       "black          1.000000  \n",
       "hispanic       1.000000  \n",
       "married        1.000000  \n",
       "nodegree       1.000000  \n",
       "re74       35040.070312  \n",
       "re75       25142.240234  \n",
       "u74            1.000000  \n",
       "u75            1.000000  "
      ]
     },
     "execution_count": 22,
     "metadata": {},
     "output_type": "execute_result"
    }
   ],
   "source": [
    "ldw_cps_trim_match[ldw_cps_trim_match[treat] == 1][covar].describe().T.drop(\n",
    "    columns=[\"count\"]\n",
    ")"
   ]
  },
  {
   "cell_type": "code",
   "execution_count": 23,
   "metadata": {
    "tags": []
   },
   "outputs": [
    {
     "data": {
      "image/png": "[encoded data removed]",
      "text/plain": [
       "<Figure size 800x600 with 1 Axes>"
      ]
     },
     "metadata": {},
     "output_type": "display_data"
    }
   ],
   "source": [
    "love_plot(raw[\"ldw_cps\"], ldw_cps_trim_match, treat, covar)"
   ]
  },
  {
   "cell_type": "markdown",
   "metadata": {},
   "source": [
    "### Appendix: Matching with Mahalanobis distance"
   ]
  },
  {
   "cell_type": "code",
   "execution_count": 24,
   "metadata": {
    "tags": []
   },
   "outputs": [
    {
     "data": {
      "text/plain": [
       "((185, 15), (15992, 15))"
      ]
     },
     "execution_count": 24,
     "metadata": {},
     "output_type": "execute_result"
    }
   ],
   "source": [
    "X = raw[\"ldw_cps\"].copy()\n",
    "\n",
    "V = np.cov(X[covar].values.T)\n",
    "VI = np.linalg.inv(V)\n",
    "\n",
    "treated_grp = X[X[treat] == 1].reset_index(drop=True)\n",
    "untreated_grp = X[X[treat] == 0].reset_index(drop=True)\n",
    "\n",
    "treated_grp.reset_index(inplace=True, names=\"row_idx\")\n",
    "untreated_grp.reset_index(inplace=True, names=\"row_idx\")\n",
    "\n",
    "treated_grp.shape, untreated_grp.shape"
   ]
  },
  {
   "cell_type": "code",
   "execution_count": 25,
   "metadata": {
    "collapsed": true,
    "jupyter": {
     "outputs_hidden": true
    },
    "tags": []
   },
   "outputs": [
    {
     "ename": "KeyboardInterrupt",
     "evalue": "",
     "output_type": "error",
     "traceback": [
      "\u001b[0;31m---------------------------------------------------------------------------\u001b[0m",
      "\u001b[0;31mKeyboardInterrupt\u001b[0m                         Traceback (most recent call last)",
      "File \u001b[0;32m<timed exec>:6\u001b[0m\n",
      "File \u001b[0;32m~/Documents/AIF/Causal-Lab/causal-lab-aif/.venv-dev/causal_lab_aif-ppc9elkr-py3.10/lib/python3.10/site-packages/pandas/core/series.py:1153\u001b[0m, in \u001b[0;36mSeries.__getitem__\u001b[0;34m(self, key)\u001b[0m\n\u001b[1;32m   1150\u001b[0m     key \u001b[38;5;241m=\u001b[39m np\u001b[38;5;241m.\u001b[39masarray(key, dtype\u001b[38;5;241m=\u001b[39m\u001b[38;5;28mbool\u001b[39m)\n\u001b[1;32m   1151\u001b[0m     \u001b[38;5;28;01mreturn\u001b[39;00m \u001b[38;5;28mself\u001b[39m\u001b[38;5;241m.\u001b[39m_get_rows_with_mask(key)\n\u001b[0;32m-> 1153\u001b[0m \u001b[38;5;28;01mreturn\u001b[39;00m \u001b[38;5;28;43mself\u001b[39;49m\u001b[38;5;241;43m.\u001b[39;49m\u001b[43m_get_with\u001b[49m\u001b[43m(\u001b[49m\u001b[43mkey\u001b[49m\u001b[43m)\u001b[49m\n",
      "File \u001b[0;32m~/Documents/AIF/Causal-Lab/causal-lab-aif/.venv-dev/causal_lab_aif-ppc9elkr-py3.10/lib/python3.10/site-packages/pandas/core/series.py:1194\u001b[0m, in \u001b[0;36mSeries._get_with\u001b[0;34m(self, key)\u001b[0m\n\u001b[1;32m   1191\u001b[0m         \u001b[38;5;28;01mreturn\u001b[39;00m \u001b[38;5;28mself\u001b[39m\u001b[38;5;241m.\u001b[39miloc[key]\n\u001b[1;32m   1193\u001b[0m \u001b[38;5;66;03m# handle the dup indexing case GH#4246\u001b[39;00m\n\u001b[0;32m-> 1194\u001b[0m \u001b[38;5;28;01mreturn\u001b[39;00m \u001b[38;5;28;43mself\u001b[39;49m\u001b[38;5;241;43m.\u001b[39;49m\u001b[43mloc\u001b[49m\u001b[43m[\u001b[49m\u001b[43mkey\u001b[49m\u001b[43m]\u001b[49m\n",
      "File \u001b[0;32m~/Documents/AIF/Causal-Lab/causal-lab-aif/.venv-dev/causal_lab_aif-ppc9elkr-py3.10/lib/python3.10/site-packages/pandas/core/indexing.py:1191\u001b[0m, in \u001b[0;36m_LocationIndexer.__getitem__\u001b[0;34m(self, key)\u001b[0m\n\u001b[1;32m   1189\u001b[0m maybe_callable \u001b[38;5;241m=\u001b[39m com\u001b[38;5;241m.\u001b[39mapply_if_callable(key, \u001b[38;5;28mself\u001b[39m\u001b[38;5;241m.\u001b[39mobj)\n\u001b[1;32m   1190\u001b[0m maybe_callable \u001b[38;5;241m=\u001b[39m \u001b[38;5;28mself\u001b[39m\u001b[38;5;241m.\u001b[39m_check_deprecated_callable_usage(key, maybe_callable)\n\u001b[0;32m-> 1191\u001b[0m \u001b[38;5;28;01mreturn\u001b[39;00m \u001b[38;5;28;43mself\u001b[39;49m\u001b[38;5;241;43m.\u001b[39;49m\u001b[43m_getitem_axis\u001b[49m\u001b[43m(\u001b[49m\u001b[43mmaybe_callable\u001b[49m\u001b[43m,\u001b[49m\u001b[43m \u001b[49m\u001b[43maxis\u001b[49m\u001b[38;5;241;43m=\u001b[39;49m\u001b[43maxis\u001b[49m\u001b[43m)\u001b[49m\n",
      "File \u001b[0;32m~/Documents/AIF/Causal-Lab/causal-lab-aif/.venv-dev/causal_lab_aif-ppc9elkr-py3.10/lib/python3.10/site-packages/pandas/core/indexing.py:1420\u001b[0m, in \u001b[0;36m_LocIndexer._getitem_axis\u001b[0;34m(self, key, axis)\u001b[0m\n\u001b[1;32m   1417\u001b[0m     \u001b[38;5;28;01mif\u001b[39;00m \u001b[38;5;28mhasattr\u001b[39m(key, \u001b[38;5;124m\"\u001b[39m\u001b[38;5;124mndim\u001b[39m\u001b[38;5;124m\"\u001b[39m) \u001b[38;5;129;01mand\u001b[39;00m key\u001b[38;5;241m.\u001b[39mndim \u001b[38;5;241m>\u001b[39m \u001b[38;5;241m1\u001b[39m:\n\u001b[1;32m   1418\u001b[0m         \u001b[38;5;28;01mraise\u001b[39;00m \u001b[38;5;167;01mValueError\u001b[39;00m(\u001b[38;5;124m\"\u001b[39m\u001b[38;5;124mCannot index with multidimensional key\u001b[39m\u001b[38;5;124m\"\u001b[39m)\n\u001b[0;32m-> 1420\u001b[0m     \u001b[38;5;28;01mreturn\u001b[39;00m \u001b[38;5;28;43mself\u001b[39;49m\u001b[38;5;241;43m.\u001b[39;49m\u001b[43m_getitem_iterable\u001b[49m\u001b[43m(\u001b[49m\u001b[43mkey\u001b[49m\u001b[43m,\u001b[49m\u001b[43m \u001b[49m\u001b[43maxis\u001b[49m\u001b[38;5;241;43m=\u001b[39;49m\u001b[43maxis\u001b[49m\u001b[43m)\u001b[49m\n\u001b[1;32m   1422\u001b[0m \u001b[38;5;66;03m# nested tuple slicing\u001b[39;00m\n\u001b[1;32m   1423\u001b[0m \u001b[38;5;28;01mif\u001b[39;00m is_nested_tuple(key, labels):\n",
      "File \u001b[0;32m~/Documents/AIF/Causal-Lab/causal-lab-aif/.venv-dev/causal_lab_aif-ppc9elkr-py3.10/lib/python3.10/site-packages/pandas/core/indexing.py:1360\u001b[0m, in \u001b[0;36m_LocIndexer._getitem_iterable\u001b[0;34m(self, key, axis)\u001b[0m\n\u001b[1;32m   1357\u001b[0m \u001b[38;5;28mself\u001b[39m\u001b[38;5;241m.\u001b[39m_validate_key(key, axis)\n\u001b[1;32m   1359\u001b[0m \u001b[38;5;66;03m# A collection of keys\u001b[39;00m\n\u001b[0;32m-> 1360\u001b[0m keyarr, indexer \u001b[38;5;241m=\u001b[39m \u001b[38;5;28;43mself\u001b[39;49m\u001b[38;5;241;43m.\u001b[39;49m\u001b[43m_get_listlike_indexer\u001b[49m\u001b[43m(\u001b[49m\u001b[43mkey\u001b[49m\u001b[43m,\u001b[49m\u001b[43m \u001b[49m\u001b[43maxis\u001b[49m\u001b[43m)\u001b[49m\n\u001b[1;32m   1361\u001b[0m \u001b[38;5;28;01mreturn\u001b[39;00m \u001b[38;5;28mself\u001b[39m\u001b[38;5;241m.\u001b[39mobj\u001b[38;5;241m.\u001b[39m_reindex_with_indexers(\n\u001b[1;32m   1362\u001b[0m     {axis: [keyarr, indexer]}, copy\u001b[38;5;241m=\u001b[39m\u001b[38;5;28;01mTrue\u001b[39;00m, allow_dups\u001b[38;5;241m=\u001b[39m\u001b[38;5;28;01mTrue\u001b[39;00m\n\u001b[1;32m   1363\u001b[0m )\n",
      "File \u001b[0;32m~/Documents/AIF/Causal-Lab/causal-lab-aif/.venv-dev/causal_lab_aif-ppc9elkr-py3.10/lib/python3.10/site-packages/pandas/core/indexing.py:1558\u001b[0m, in \u001b[0;36m_LocIndexer._get_listlike_indexer\u001b[0;34m(self, key, axis)\u001b[0m\n\u001b[1;32m   1555\u001b[0m ax \u001b[38;5;241m=\u001b[39m \u001b[38;5;28mself\u001b[39m\u001b[38;5;241m.\u001b[39mobj\u001b[38;5;241m.\u001b[39m_get_axis(axis)\n\u001b[1;32m   1556\u001b[0m axis_name \u001b[38;5;241m=\u001b[39m \u001b[38;5;28mself\u001b[39m\u001b[38;5;241m.\u001b[39mobj\u001b[38;5;241m.\u001b[39m_get_axis_name(axis)\n\u001b[0;32m-> 1558\u001b[0m keyarr, indexer \u001b[38;5;241m=\u001b[39m \u001b[43max\u001b[49m\u001b[38;5;241;43m.\u001b[39;49m\u001b[43m_get_indexer_strict\u001b[49m\u001b[43m(\u001b[49m\u001b[43mkey\u001b[49m\u001b[43m,\u001b[49m\u001b[43m \u001b[49m\u001b[43maxis_name\u001b[49m\u001b[43m)\u001b[49m\n\u001b[1;32m   1560\u001b[0m \u001b[38;5;28;01mreturn\u001b[39;00m keyarr, indexer\n",
      "File \u001b[0;32m~/Documents/AIF/Causal-Lab/causal-lab-aif/.venv-dev/causal_lab_aif-ppc9elkr-py3.10/lib/python3.10/site-packages/pandas/core/indexes/base.py:6195\u001b[0m, in \u001b[0;36mIndex._get_indexer_strict\u001b[0;34m(self, key, axis_name)\u001b[0m\n\u001b[1;32m   6192\u001b[0m     keyarr \u001b[38;5;241m=\u001b[39m com\u001b[38;5;241m.\u001b[39masarray_tuplesafe(keyarr)\n\u001b[1;32m   6194\u001b[0m \u001b[38;5;28;01mif\u001b[39;00m \u001b[38;5;28mself\u001b[39m\u001b[38;5;241m.\u001b[39m_index_as_unique:\n\u001b[0;32m-> 6195\u001b[0m     indexer \u001b[38;5;241m=\u001b[39m \u001b[38;5;28;43mself\u001b[39;49m\u001b[38;5;241;43m.\u001b[39;49m\u001b[43mget_indexer_for\u001b[49m\u001b[43m(\u001b[49m\u001b[43mkeyarr\u001b[49m\u001b[43m)\u001b[49m\n\u001b[1;32m   6196\u001b[0m     keyarr \u001b[38;5;241m=\u001b[39m \u001b[38;5;28mself\u001b[39m\u001b[38;5;241m.\u001b[39mreindex(keyarr)[\u001b[38;5;241m0\u001b[39m]\n\u001b[1;32m   6197\u001b[0m \u001b[38;5;28;01melse\u001b[39;00m:\n",
      "File \u001b[0;32m~/Documents/AIF/Causal-Lab/causal-lab-aif/.venv-dev/causal_lab_aif-ppc9elkr-py3.10/lib/python3.10/site-packages/pandas/core/indexes/base.py:6182\u001b[0m, in \u001b[0;36mIndex.get_indexer_for\u001b[0;34m(self, target)\u001b[0m\n\u001b[1;32m   6164\u001b[0m \u001b[38;5;250m\u001b[39m\u001b[38;5;124;03m\"\"\"\u001b[39;00m\n\u001b[1;32m   6165\u001b[0m \u001b[38;5;124;03mGuaranteed return of an indexer even when non-unique.\u001b[39;00m\n\u001b[1;32m   6166\u001b[0m \n\u001b[0;32m   (...)\u001b[0m\n\u001b[1;32m   6179\u001b[0m \u001b[38;5;124;03marray([0, 2])\u001b[39;00m\n\u001b[1;32m   6180\u001b[0m \u001b[38;5;124;03m\"\"\"\u001b[39;00m\n\u001b[1;32m   6181\u001b[0m \u001b[38;5;28;01mif\u001b[39;00m \u001b[38;5;28mself\u001b[39m\u001b[38;5;241m.\u001b[39m_index_as_unique:\n\u001b[0;32m-> 6182\u001b[0m     \u001b[38;5;28;01mreturn\u001b[39;00m \u001b[38;5;28;43mself\u001b[39;49m\u001b[38;5;241;43m.\u001b[39;49m\u001b[43mget_indexer\u001b[49m\u001b[43m(\u001b[49m\u001b[43mtarget\u001b[49m\u001b[43m)\u001b[49m\n\u001b[1;32m   6183\u001b[0m indexer, _ \u001b[38;5;241m=\u001b[39m \u001b[38;5;28mself\u001b[39m\u001b[38;5;241m.\u001b[39mget_indexer_non_unique(target)\n\u001b[1;32m   6184\u001b[0m \u001b[38;5;28;01mreturn\u001b[39;00m indexer\n",
      "File \u001b[0;32m~/Documents/AIF/Causal-Lab/causal-lab-aif/.venv-dev/causal_lab_aif-ppc9elkr-py3.10/lib/python3.10/site-packages/pandas/core/indexes/base.py:3880\u001b[0m, in \u001b[0;36mIndex.get_indexer\u001b[0;34m(self, target, method, limit, tolerance)\u001b[0m\n\u001b[1;32m   3878\u001b[0m method \u001b[38;5;241m=\u001b[39m clean_reindex_fill_method(method)\n\u001b[1;32m   3879\u001b[0m orig_target \u001b[38;5;241m=\u001b[39m target\n\u001b[0;32m-> 3880\u001b[0m target \u001b[38;5;241m=\u001b[39m \u001b[38;5;28;43mself\u001b[39;49m\u001b[38;5;241;43m.\u001b[39;49m\u001b[43m_maybe_cast_listlike_indexer\u001b[49m\u001b[43m(\u001b[49m\u001b[43mtarget\u001b[49m\u001b[43m)\u001b[49m\n\u001b[1;32m   3882\u001b[0m \u001b[38;5;28mself\u001b[39m\u001b[38;5;241m.\u001b[39m_check_indexing_method(method, limit, tolerance)\n\u001b[1;32m   3884\u001b[0m \u001b[38;5;28;01mif\u001b[39;00m \u001b[38;5;129;01mnot\u001b[39;00m \u001b[38;5;28mself\u001b[39m\u001b[38;5;241m.\u001b[39m_index_as_unique:\n",
      "File \u001b[0;32m~/Documents/AIF/Causal-Lab/causal-lab-aif/.venv-dev/causal_lab_aif-ppc9elkr-py3.10/lib/python3.10/site-packages/pandas/core/indexes/base.py:6683\u001b[0m, in \u001b[0;36mIndex._maybe_cast_listlike_indexer\u001b[0;34m(self, target)\u001b[0m\n\u001b[1;32m   6679\u001b[0m \u001b[38;5;28;01mdef\u001b[39;00m \u001b[38;5;21m_maybe_cast_listlike_indexer\u001b[39m(\u001b[38;5;28mself\u001b[39m, target) \u001b[38;5;241m-\u001b[39m\u001b[38;5;241m>\u001b[39m Index:\n\u001b[1;32m   6680\u001b[0m \u001b[38;5;250m    \u001b[39m\u001b[38;5;124;03m\"\"\"\u001b[39;00m\n\u001b[1;32m   6681\u001b[0m \u001b[38;5;124;03m    Analogue to maybe_cast_indexer for get_indexer instead of get_loc.\u001b[39;00m\n\u001b[1;32m   6682\u001b[0m \u001b[38;5;124;03m    \"\"\"\u001b[39;00m\n\u001b[0;32m-> 6683\u001b[0m     \u001b[38;5;28;01mreturn\u001b[39;00m \u001b[43mensure_index\u001b[49m\u001b[43m(\u001b[49m\u001b[43mtarget\u001b[49m\u001b[43m)\u001b[49m\n",
      "File \u001b[0;32m~/Documents/AIF/Causal-Lab/causal-lab-aif/.venv-dev/causal_lab_aif-ppc9elkr-py3.10/lib/python3.10/site-packages/pandas/core/indexes/base.py:7649\u001b[0m, in \u001b[0;36mensure_index\u001b[0;34m(index_like, copy)\u001b[0m\n\u001b[1;32m   7647\u001b[0m         \u001b[38;5;28;01mreturn\u001b[39;00m Index(index_like, copy\u001b[38;5;241m=\u001b[39mcopy, tupleize_cols\u001b[38;5;241m=\u001b[39m\u001b[38;5;28;01mFalse\u001b[39;00m)\n\u001b[1;32m   7648\u001b[0m \u001b[38;5;28;01melse\u001b[39;00m:\n\u001b[0;32m-> 7649\u001b[0m     \u001b[38;5;28;01mreturn\u001b[39;00m \u001b[43mIndex\u001b[49m\u001b[43m(\u001b[49m\u001b[43mindex_like\u001b[49m\u001b[43m,\u001b[49m\u001b[43m \u001b[49m\u001b[43mcopy\u001b[49m\u001b[38;5;241;43m=\u001b[39;49m\u001b[43mcopy\u001b[49m\u001b[43m)\u001b[49m\n",
      "File \u001b[0;32m~/Documents/AIF/Causal-Lab/causal-lab-aif/.venv-dev/causal_lab_aif-ppc9elkr-py3.10/lib/python3.10/site-packages/pandas/core/indexes/base.py:576\u001b[0m, in \u001b[0;36mIndex.__new__\u001b[0;34m(cls, data, dtype, copy, name, tupleize_cols)\u001b[0m\n\u001b[1;32m    572\u001b[0m arr \u001b[38;5;241m=\u001b[39m ensure_wrapped_if_datetimelike(arr)\n\u001b[1;32m    574\u001b[0m klass \u001b[38;5;241m=\u001b[39m \u001b[38;5;28mcls\u001b[39m\u001b[38;5;241m.\u001b[39m_dtype_to_subclass(arr\u001b[38;5;241m.\u001b[39mdtype)\n\u001b[0;32m--> 576\u001b[0m arr \u001b[38;5;241m=\u001b[39m \u001b[43mklass\u001b[49m\u001b[38;5;241;43m.\u001b[39;49m\u001b[43m_ensure_array\u001b[49m\u001b[43m(\u001b[49m\u001b[43marr\u001b[49m\u001b[43m,\u001b[49m\u001b[43m \u001b[49m\u001b[43marr\u001b[49m\u001b[38;5;241;43m.\u001b[39;49m\u001b[43mdtype\u001b[49m\u001b[43m,\u001b[49m\u001b[43m \u001b[49m\u001b[43mcopy\u001b[49m\u001b[38;5;241;43m=\u001b[39;49m\u001b[38;5;28;43;01mFalse\u001b[39;49;00m\u001b[43m)\u001b[49m\n\u001b[1;32m    577\u001b[0m result \u001b[38;5;241m=\u001b[39m klass\u001b[38;5;241m.\u001b[39m_simple_new(arr, name, refs\u001b[38;5;241m=\u001b[39mrefs)\n\u001b[1;32m    578\u001b[0m \u001b[38;5;28;01mif\u001b[39;00m dtype \u001b[38;5;129;01mis\u001b[39;00m \u001b[38;5;28;01mNone\u001b[39;00m \u001b[38;5;129;01mand\u001b[39;00m is_pandas_object \u001b[38;5;129;01mand\u001b[39;00m data_dtype \u001b[38;5;241m==\u001b[39m np\u001b[38;5;241m.\u001b[39mobject_:\n",
      "File \u001b[0;32m~/Documents/AIF/Causal-Lab/causal-lab-aif/.venv-dev/causal_lab_aif-ppc9elkr-py3.10/lib/python3.10/site-packages/pandas/core/indexes/base.py:603\u001b[0m, in \u001b[0;36mIndex._ensure_array\u001b[0;34m(cls, data, dtype, copy)\u001b[0m\n\u001b[1;32m    599\u001b[0m \u001b[38;5;28;01melif\u001b[39;00m dtype \u001b[38;5;241m==\u001b[39m np\u001b[38;5;241m.\u001b[39mfloat16:\n\u001b[1;32m    600\u001b[0m     \u001b[38;5;66;03m# float16 not supported (no indexing engine)\u001b[39;00m\n\u001b[1;32m    601\u001b[0m     \u001b[38;5;28;01mraise\u001b[39;00m \u001b[38;5;167;01mNotImplementedError\u001b[39;00m(\u001b[38;5;124m\"\u001b[39m\u001b[38;5;124mfloat16 indexes are not supported\u001b[39m\u001b[38;5;124m\"\u001b[39m)\n\u001b[0;32m--> 603\u001b[0m \u001b[38;5;28;01mif\u001b[39;00m copy:\n\u001b[1;32m    604\u001b[0m     \u001b[38;5;66;03m# asarray_tuplesafe does not always copy underlying data,\u001b[39;00m\n\u001b[1;32m    605\u001b[0m     \u001b[38;5;66;03m#  so need to make sure that this happens\u001b[39;00m\n\u001b[1;32m    606\u001b[0m     data \u001b[38;5;241m=\u001b[39m data\u001b[38;5;241m.\u001b[39mcopy()\n\u001b[1;32m    607\u001b[0m \u001b[38;5;28;01mreturn\u001b[39;00m data\n",
      "\u001b[0;31mKeyboardInterrupt\u001b[0m: "
     ]
    }
   ],
   "source": [
    "%%time\n",
    "results = {}\n",
    "\n",
    "for i, row_treat in treated_grp.iterrows():\n",
    "    min_dist = []\n",
    "    for j, row_untreat in untreated_grp.iterrows():\n",
    "        dist = mahalanobis(row_treat[covar], row_untreat[covar], VI)\n",
    "        min_dist.append(dist)\n",
    "    # print(f\"Match for treated {i} reached at index {np.argmin(min_dist)}\")\n",
    "    results.update({i: np.argmin(min_dist)})\n",
    "\n",
    "# Wall time: 23min 28s"
   ]
  },
  {
   "cell_type": "code",
   "execution_count": 26,
   "metadata": {
    "tags": []
   },
   "outputs": [
    {
     "data": {
      "text/plain": [
       "['mahalanobis-match.pkl']"
      ]
     },
     "execution_count": 26,
     "metadata": {},
     "output_type": "execute_result"
    }
   ],
   "source": [
    "joblib.dump(results, \"mahalanobis-match.pkl\")"
   ]
  },
  {
   "cell_type": "code",
   "execution_count": 39,
   "metadata": {},
   "outputs": [],
   "source": [
    "treated_grp[\"match_ID\"] = treated_grp[\"row_idx\"].map(results)"
   ]
  },
  {
   "cell_type": "code",
   "execution_count": 51,
   "metadata": {},
   "outputs": [],
   "source": [
    "mahalanobis_match_treated = list(results.keys())\n",
    "mahalanobis_match_control = list(results.values())\n",
    "\n",
    "mhlnb_match_t = treated_grp[untreated_grp[\"row_idx\"].isin(mahalanobis_match_treated)]\n",
    "mhlnb_match_c = untreated_grp[untreated_grp[\"row_idx\"].isin(mahalanobis_match_control)]\n",
    "\n",
    "mhlnb_match = pd.concat([mhlnb_match_t, mhlnb_match_c])"
   ]
  },
  {
   "cell_type": "markdown",
   "metadata": {},
   "source": [
    "**Covariate balance**"
   ]
  },
  {
   "cell_type": "code",
   "execution_count": 59,
   "metadata": {},
   "outputs": [
    {
     "name": "stderr",
     "output_type": "stream",
     "text": [
      "C:\\Users\\daygo\\AppData\\Local\\Temp\\ipykernel_14532\\1126656064.py:1: UserWarning: Boolean Series key will be reindexed to match DataFrame index.\n",
      "  mhlnb_match_t = treated_grp[untreated_grp[\"row_idx\"].isin(mahalanobis_match_treated)]\n"
     ]
    },
    {
     "data": {
      "text/html": [
       "<div>\n",
       "<style scoped>\n",
       "    .dataframe tbody tr th:only-of-type {\n",
       "        vertical-align: middle;\n",
       "    }\n",
       "\n",
       "    .dataframe tbody tr th {\n",
       "        vertical-align: top;\n",
       "    }\n",
       "\n",
       "    .dataframe thead th {\n",
       "        text-align: right;\n",
       "    }\n",
       "</style>\n",
       "<table border=\"1\" class=\"dataframe\">\n",
       "  <thead>\n",
       "    <tr style=\"text-align: right;\">\n",
       "      <th></th>\n",
       "      <th>mean</th>\n",
       "      <th>std</th>\n",
       "      <th>min</th>\n",
       "      <th>25%</th>\n",
       "      <th>50%</th>\n",
       "      <th>75%</th>\n",
       "      <th>max</th>\n",
       "    </tr>\n",
       "  </thead>\n",
       "  <tbody>\n",
       "    <tr>\n",
       "      <th>age</th>\n",
       "      <td>25.816216</td>\n",
       "      <td>7.155019</td>\n",
       "      <td>17.0</td>\n",
       "      <td>20.0</td>\n",
       "      <td>25.0</td>\n",
       "      <td>29.000000</td>\n",
       "      <td>48.000000</td>\n",
       "    </tr>\n",
       "    <tr>\n",
       "      <th>education</th>\n",
       "      <td>10.345946</td>\n",
       "      <td>2.010650</td>\n",
       "      <td>4.0</td>\n",
       "      <td>9.0</td>\n",
       "      <td>11.0</td>\n",
       "      <td>12.000000</td>\n",
       "      <td>16.000000</td>\n",
       "    </tr>\n",
       "    <tr>\n",
       "      <th>black</th>\n",
       "      <td>0.843243</td>\n",
       "      <td>0.364558</td>\n",
       "      <td>0.0</td>\n",
       "      <td>1.0</td>\n",
       "      <td>1.0</td>\n",
       "      <td>1.000000</td>\n",
       "      <td>1.000000</td>\n",
       "    </tr>\n",
       "    <tr>\n",
       "      <th>hispanic</th>\n",
       "      <td>0.059459</td>\n",
       "      <td>0.237124</td>\n",
       "      <td>0.0</td>\n",
       "      <td>0.0</td>\n",
       "      <td>0.0</td>\n",
       "      <td>0.000000</td>\n",
       "      <td>1.000000</td>\n",
       "    </tr>\n",
       "    <tr>\n",
       "      <th>married</th>\n",
       "      <td>0.189189</td>\n",
       "      <td>0.392722</td>\n",
       "      <td>0.0</td>\n",
       "      <td>0.0</td>\n",
       "      <td>0.0</td>\n",
       "      <td>0.000000</td>\n",
       "      <td>1.000000</td>\n",
       "    </tr>\n",
       "    <tr>\n",
       "      <th>nodegree</th>\n",
       "      <td>0.708108</td>\n",
       "      <td>0.455867</td>\n",
       "      <td>0.0</td>\n",
       "      <td>0.0</td>\n",
       "      <td>1.0</td>\n",
       "      <td>1.000000</td>\n",
       "      <td>1.000000</td>\n",
       "    </tr>\n",
       "    <tr>\n",
       "      <th>re74</th>\n",
       "      <td>2095.573693</td>\n",
       "      <td>4886.620354</td>\n",
       "      <td>0.0</td>\n",
       "      <td>0.0</td>\n",
       "      <td>0.0</td>\n",
       "      <td>1291.468018</td>\n",
       "      <td>35040.070312</td>\n",
       "    </tr>\n",
       "    <tr>\n",
       "      <th>re75</th>\n",
       "      <td>1532.055313</td>\n",
       "      <td>3219.250879</td>\n",
       "      <td>0.0</td>\n",
       "      <td>0.0</td>\n",
       "      <td>0.0</td>\n",
       "      <td>1817.284058</td>\n",
       "      <td>25142.240234</td>\n",
       "    </tr>\n",
       "    <tr>\n",
       "      <th>u74</th>\n",
       "      <td>0.708108</td>\n",
       "      <td>0.455867</td>\n",
       "      <td>0.0</td>\n",
       "      <td>0.0</td>\n",
       "      <td>1.0</td>\n",
       "      <td>1.000000</td>\n",
       "      <td>1.000000</td>\n",
       "    </tr>\n",
       "    <tr>\n",
       "      <th>u75</th>\n",
       "      <td>0.600000</td>\n",
       "      <td>0.491227</td>\n",
       "      <td>0.0</td>\n",
       "      <td>0.0</td>\n",
       "      <td>1.0</td>\n",
       "      <td>1.000000</td>\n",
       "      <td>1.000000</td>\n",
       "    </tr>\n",
       "  </tbody>\n",
       "</table>\n",
       "</div>"
      ],
      "text/plain": [
       "                  mean          std   min   25%   50%          75%  \\\n",
       "age          25.816216     7.155019  17.0  20.0  25.0    29.000000   \n",
       "education    10.345946     2.010650   4.0   9.0  11.0    12.000000   \n",
       "black         0.843243     0.364558   0.0   1.0   1.0     1.000000   \n",
       "hispanic      0.059459     0.237124   0.0   0.0   0.0     0.000000   \n",
       "married       0.189189     0.392722   0.0   0.0   0.0     0.000000   \n",
       "nodegree      0.708108     0.455867   0.0   0.0   1.0     1.000000   \n",
       "re74       2095.573693  4886.620354   0.0   0.0   0.0  1291.468018   \n",
       "re75       1532.055313  3219.250879   0.0   0.0   0.0  1817.284058   \n",
       "u74           0.708108     0.455867   0.0   0.0   1.0     1.000000   \n",
       "u75           0.600000     0.491227   0.0   0.0   1.0     1.000000   \n",
       "\n",
       "                    max  \n",
       "age           48.000000  \n",
       "education     16.000000  \n",
       "black          1.000000  \n",
       "hispanic       1.000000  \n",
       "married        1.000000  \n",
       "nodegree       1.000000  \n",
       "re74       35040.070312  \n",
       "re75       25142.240234  \n",
       "u74            1.000000  \n",
       "u75            1.000000  "
      ]
     },
     "execution_count": 59,
     "metadata": {},
     "output_type": "execute_result"
    }
   ],
   "source": [
    "mhlnb_match_t[covar].describe().T.drop(columns=[\"count\"])"
   ]
  },
  {
   "cell_type": "code",
   "execution_count": 60,
   "metadata": {},
   "outputs": [
    {
     "data": {
      "text/html": [
       "<div>\n",
       "<style scoped>\n",
       "    .dataframe tbody tr th:only-of-type {\n",
       "        vertical-align: middle;\n",
       "    }\n",
       "\n",
       "    .dataframe tbody tr th {\n",
       "        vertical-align: top;\n",
       "    }\n",
       "\n",
       "    .dataframe thead th {\n",
       "        text-align: right;\n",
       "    }\n",
       "</style>\n",
       "<table border=\"1\" class=\"dataframe\">\n",
       "  <thead>\n",
       "    <tr style=\"text-align: right;\">\n",
       "      <th></th>\n",
       "      <th>mean</th>\n",
       "      <th>std</th>\n",
       "      <th>min</th>\n",
       "      <th>25%</th>\n",
       "      <th>50%</th>\n",
       "      <th>75%</th>\n",
       "      <th>max</th>\n",
       "    </tr>\n",
       "  </thead>\n",
       "  <tbody>\n",
       "    <tr>\n",
       "      <th>age</th>\n",
       "      <td>25.852174</td>\n",
       "      <td>9.039139</td>\n",
       "      <td>16.0</td>\n",
       "      <td>19.0</td>\n",
       "      <td>23.000000</td>\n",
       "      <td>31.000000</td>\n",
       "      <td>51.000000</td>\n",
       "    </tr>\n",
       "    <tr>\n",
       "      <th>education</th>\n",
       "      <td>10.478261</td>\n",
       "      <td>2.031972</td>\n",
       "      <td>3.0</td>\n",
       "      <td>9.0</td>\n",
       "      <td>11.000000</td>\n",
       "      <td>12.000000</td>\n",
       "      <td>15.000000</td>\n",
       "    </tr>\n",
       "    <tr>\n",
       "      <th>black</th>\n",
       "      <td>0.756522</td>\n",
       "      <td>0.431060</td>\n",
       "      <td>0.0</td>\n",
       "      <td>1.0</td>\n",
       "      <td>1.000000</td>\n",
       "      <td>1.000000</td>\n",
       "      <td>1.000000</td>\n",
       "    </tr>\n",
       "    <tr>\n",
       "      <th>hispanic</th>\n",
       "      <td>0.086957</td>\n",
       "      <td>0.283004</td>\n",
       "      <td>0.0</td>\n",
       "      <td>0.0</td>\n",
       "      <td>0.000000</td>\n",
       "      <td>0.000000</td>\n",
       "      <td>1.000000</td>\n",
       "    </tr>\n",
       "    <tr>\n",
       "      <th>married</th>\n",
       "      <td>0.234783</td>\n",
       "      <td>0.425718</td>\n",
       "      <td>0.0</td>\n",
       "      <td>0.0</td>\n",
       "      <td>0.000000</td>\n",
       "      <td>0.000000</td>\n",
       "      <td>1.000000</td>\n",
       "    </tr>\n",
       "    <tr>\n",
       "      <th>nodegree</th>\n",
       "      <td>0.652174</td>\n",
       "      <td>0.478365</td>\n",
       "      <td>0.0</td>\n",
       "      <td>0.0</td>\n",
       "      <td>1.000000</td>\n",
       "      <td>1.000000</td>\n",
       "      <td>1.000000</td>\n",
       "    </tr>\n",
       "    <tr>\n",
       "      <th>re74</th>\n",
       "      <td>3162.563184</td>\n",
       "      <td>5203.973352</td>\n",
       "      <td>0.0</td>\n",
       "      <td>0.0</td>\n",
       "      <td>0.000000</td>\n",
       "      <td>4867.798340</td>\n",
       "      <td>25113.880859</td>\n",
       "    </tr>\n",
       "    <tr>\n",
       "      <th>re75</th>\n",
       "      <td>2318.389945</td>\n",
       "      <td>3724.310411</td>\n",
       "      <td>0.0</td>\n",
       "      <td>0.0</td>\n",
       "      <td>449.371002</td>\n",
       "      <td>3378.338501</td>\n",
       "      <td>20488.449219</td>\n",
       "    </tr>\n",
       "    <tr>\n",
       "      <th>u74</th>\n",
       "      <td>0.556522</td>\n",
       "      <td>0.498969</td>\n",
       "      <td>0.0</td>\n",
       "      <td>0.0</td>\n",
       "      <td>1.000000</td>\n",
       "      <td>1.000000</td>\n",
       "      <td>1.000000</td>\n",
       "    </tr>\n",
       "    <tr>\n",
       "      <th>u75</th>\n",
       "      <td>0.443478</td>\n",
       "      <td>0.498969</td>\n",
       "      <td>0.0</td>\n",
       "      <td>0.0</td>\n",
       "      <td>0.000000</td>\n",
       "      <td>1.000000</td>\n",
       "      <td>1.000000</td>\n",
       "    </tr>\n",
       "  </tbody>\n",
       "</table>\n",
       "</div>"
      ],
      "text/plain": [
       "                  mean          std   min   25%         50%          75%  \\\n",
       "age          25.852174     9.039139  16.0  19.0   23.000000    31.000000   \n",
       "education    10.478261     2.031972   3.0   9.0   11.000000    12.000000   \n",
       "black         0.756522     0.431060   0.0   1.0    1.000000     1.000000   \n",
       "hispanic      0.086957     0.283004   0.0   0.0    0.000000     0.000000   \n",
       "married       0.234783     0.425718   0.0   0.0    0.000000     0.000000   \n",
       "nodegree      0.652174     0.478365   0.0   0.0    1.000000     1.000000   \n",
       "re74       3162.563184  5203.973352   0.0   0.0    0.000000  4867.798340   \n",
       "re75       2318.389945  3724.310411   0.0   0.0  449.371002  3378.338501   \n",
       "u74           0.556522     0.498969   0.0   0.0    1.000000     1.000000   \n",
       "u75           0.443478     0.498969   0.0   0.0    0.000000     1.000000   \n",
       "\n",
       "                    max  \n",
       "age           51.000000  \n",
       "education     15.000000  \n",
       "black          1.000000  \n",
       "hispanic       1.000000  \n",
       "married        1.000000  \n",
       "nodegree       1.000000  \n",
       "re74       25113.880859  \n",
       "re75       20488.449219  \n",
       "u74            1.000000  \n",
       "u75            1.000000  "
      ]
     },
     "execution_count": 60,
     "metadata": {},
     "output_type": "execute_result"
    }
   ],
   "source": [
    "mhlnb_match_c[covar].describe().T.drop(columns=[\"count\"])"
   ]
  },
  {
   "cell_type": "code",
   "execution_count": 64,
   "metadata": {},
   "outputs": [
    {
     "data": {
      "image/png": "[encoded data removed]",
      "text/plain": [
       "<Figure size 800x600 with 1 Axes>"
      ]
     },
     "metadata": {},
     "output_type": "display_data"
    }
   ],
   "source": [
    "love_plot(raw[\"ldw_cps\"], mhlnb_match, treat, covar)"
   ]
  },
  {
   "cell_type": "markdown",
   "metadata": {},
   "source": [
    "**ATE**"
   ]
  },
  {
   "cell_type": "code",
   "execution_count": 65,
   "metadata": {},
   "outputs": [
    {
     "data": {
      "text/plain": [
       "1120.8184196346656"
      ]
     },
     "execution_count": 65,
     "metadata": {},
     "output_type": "execute_result"
    }
   ],
   "source": [
    "mhlnb_match.query(\"treat==1\")[Y].mean() - mhlnb_match.query(\"treat==0\")[Y].mean()"
   ]
  },
  {
   "cell_type": "code",
   "execution_count": null,
   "metadata": {},
   "outputs": [],
   "source": []
  }
 ],
 "metadata": {
  "kernelspec": {
   "display_name": "Python 3 (ipykernel)",
   "language": "python",
   "name": "python3"
  },
  "language_info": {
   "codemirror_mode": {
    "name": "ipython",
    "version": 3
   },
   "file_extension": ".py",
   "mimetype": "text/x-python",
   "name": "python",
   "nbconvert_exporter": "python",
   "pygments_lexer": "ipython3",
   "version": "3.10.6"
  }
 },
 "nbformat": 4,
 "nbformat_minor": 4
}
